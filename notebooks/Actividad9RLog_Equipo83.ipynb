{
 "cells": [
  {
   "cell_type": "markdown",
   "metadata": {
    "id": "zZeKeQlF-0tP"
   },
   "source": [
    "## **MAESTRÍA EN INTELIGENCIA ARTIFICIAL APLICADA**\n",
    "\n",
    "**Curso: TC4029 - Ciencia y analítica de datos**\n",
    "\n",
    "Tecnológico de Monterrey\n",
    "\n",
    "Prof Grettel Barceló Alonso\n",
    "\n",
    "**Semana 9**\n",
    "Regresión Logística"
   ]
  },
  {
   "cell_type": "markdown",
   "metadata": {
    "id": "_jPAgA5K_Atl"
   },
   "source": [
    "---\n",
    "\n",
    "**NÚMERO DE EQUIPO:**\n",
    "* Equipo #83\n",
    "\n",
    "---        \n",
    "        \n",
    "**MIEMBROS DEL EQUIPO:**\n",
    "* Ernesto Damián Favela Vela: A00738581\n",
    "* Gustavo Alejandro Garduño Macedo: A01795341\n",
    "* Julia Gabriela Pinedo: A01795315\n",
    "* Juan Manuel Rodríguez Mateos: A01794890\n",
    "\n",
    "--- "
   ]
  },
  {
   "cell_type": "code",
   "execution_count": null,
   "metadata": {
    "id": "wMArpaFx_Mbd"
   },
   "outputs": [],
   "source": [
    "import pandas as pd\n",
    "import numpy as np\n",
    "import matplotlib.pyplot as plt\n",
    "import seaborn as sns"
   ]
  },
  {
   "cell_type": "code",
   "execution_count": null,
   "metadata": {
    "colab": {
     "base_uri": "https://localhost:8080/",
     "height": 492
    },
    "executionInfo": {
     "elapsed": 9,
     "status": "ok",
     "timestamp": 1678054091042,
     "user": {
      "displayName": "Grettel Barceló Alonso",
      "userId": "01577411478517144249"
     },
     "user_tz": 360
    },
    "id": "jenoVKNN_OhH",
    "outputId": "a8528a08-fb99-41b9-a561-99637a1b90d8"
   },
   "outputs": [
    {
     "data": {
      "text/html": [
       "\n",
       "  <div id=\"df-784e132a-2f33-4595-83ba-c4aa6cdee19c\">\n",
       "    <div class=\"colab-df-container\">\n",
       "      <div>\n",
       "<style scoped>\n",
       "    .dataframe tbody tr th:only-of-type {\n",
       "        vertical-align: middle;\n",
       "    }\n",
       "\n",
       "    .dataframe tbody tr th {\n",
       "        vertical-align: top;\n",
       "    }\n",
       "\n",
       "    .dataframe thead th {\n",
       "        text-align: right;\n",
       "    }\n",
       "</style>\n",
       "<table border=\"1\" class=\"dataframe\">\n",
       "  <thead>\n",
       "    <tr style=\"text-align: right;\">\n",
       "      <th></th>\n",
       "      <th>id</th>\n",
       "      <th>diagnosis</th>\n",
       "      <th>radius_mean</th>\n",
       "      <th>texture_mean</th>\n",
       "      <th>perimeter_mean</th>\n",
       "      <th>area_mean</th>\n",
       "      <th>smoothness_mean</th>\n",
       "      <th>compactness_mean</th>\n",
       "      <th>concavity_mean</th>\n",
       "      <th>concave points_mean</th>\n",
       "      <th>...</th>\n",
       "      <th>radius_worst</th>\n",
       "      <th>texture_worst</th>\n",
       "      <th>perimeter_worst</th>\n",
       "      <th>area_worst</th>\n",
       "      <th>smoothness_worst</th>\n",
       "      <th>compactness_worst</th>\n",
       "      <th>concavity_worst</th>\n",
       "      <th>concave points_worst</th>\n",
       "      <th>symmetry_worst</th>\n",
       "      <th>fractal_dimension_worst</th>\n",
       "    </tr>\n",
       "  </thead>\n",
       "  <tbody>\n",
       "    <tr>\n",
       "      <th>0</th>\n",
       "      <td>842302</td>\n",
       "      <td>M</td>\n",
       "      <td>17.99</td>\n",
       "      <td>10.38</td>\n",
       "      <td>122.80</td>\n",
       "      <td>1001.0</td>\n",
       "      <td>0.11840</td>\n",
       "      <td>0.27760</td>\n",
       "      <td>0.30010</td>\n",
       "      <td>0.14710</td>\n",
       "      <td>...</td>\n",
       "      <td>25.380</td>\n",
       "      <td>17.33</td>\n",
       "      <td>184.60</td>\n",
       "      <td>2019.0</td>\n",
       "      <td>0.16220</td>\n",
       "      <td>0.66560</td>\n",
       "      <td>0.7119</td>\n",
       "      <td>0.2654</td>\n",
       "      <td>0.4601</td>\n",
       "      <td>0.11890</td>\n",
       "    </tr>\n",
       "    <tr>\n",
       "      <th>1</th>\n",
       "      <td>842517</td>\n",
       "      <td>M</td>\n",
       "      <td>20.57</td>\n",
       "      <td>17.77</td>\n",
       "      <td>132.90</td>\n",
       "      <td>1326.0</td>\n",
       "      <td>0.08474</td>\n",
       "      <td>0.07864</td>\n",
       "      <td>0.08690</td>\n",
       "      <td>0.07017</td>\n",
       "      <td>...</td>\n",
       "      <td>24.990</td>\n",
       "      <td>23.41</td>\n",
       "      <td>158.80</td>\n",
       "      <td>1956.0</td>\n",
       "      <td>0.12380</td>\n",
       "      <td>0.18660</td>\n",
       "      <td>0.2416</td>\n",
       "      <td>0.1860</td>\n",
       "      <td>0.2750</td>\n",
       "      <td>0.08902</td>\n",
       "    </tr>\n",
       "    <tr>\n",
       "      <th>2</th>\n",
       "      <td>84300903</td>\n",
       "      <td>M</td>\n",
       "      <td>19.69</td>\n",
       "      <td>21.25</td>\n",
       "      <td>130.00</td>\n",
       "      <td>1203.0</td>\n",
       "      <td>0.10960</td>\n",
       "      <td>0.15990</td>\n",
       "      <td>0.19740</td>\n",
       "      <td>0.12790</td>\n",
       "      <td>...</td>\n",
       "      <td>23.570</td>\n",
       "      <td>25.53</td>\n",
       "      <td>152.50</td>\n",
       "      <td>1709.0</td>\n",
       "      <td>0.14440</td>\n",
       "      <td>0.42450</td>\n",
       "      <td>0.4504</td>\n",
       "      <td>0.2430</td>\n",
       "      <td>0.3613</td>\n",
       "      <td>0.08758</td>\n",
       "    </tr>\n",
       "    <tr>\n",
       "      <th>3</th>\n",
       "      <td>84348301</td>\n",
       "      <td>M</td>\n",
       "      <td>11.42</td>\n",
       "      <td>20.38</td>\n",
       "      <td>77.58</td>\n",
       "      <td>386.1</td>\n",
       "      <td>0.14250</td>\n",
       "      <td>0.28390</td>\n",
       "      <td>0.24140</td>\n",
       "      <td>0.10520</td>\n",
       "      <td>...</td>\n",
       "      <td>14.910</td>\n",
       "      <td>26.50</td>\n",
       "      <td>98.87</td>\n",
       "      <td>567.7</td>\n",
       "      <td>0.20980</td>\n",
       "      <td>0.86630</td>\n",
       "      <td>0.6869</td>\n",
       "      <td>0.2575</td>\n",
       "      <td>0.6638</td>\n",
       "      <td>0.17300</td>\n",
       "    </tr>\n",
       "    <tr>\n",
       "      <th>4</th>\n",
       "      <td>84358402</td>\n",
       "      <td>M</td>\n",
       "      <td>20.29</td>\n",
       "      <td>14.34</td>\n",
       "      <td>135.10</td>\n",
       "      <td>1297.0</td>\n",
       "      <td>0.10030</td>\n",
       "      <td>0.13280</td>\n",
       "      <td>0.19800</td>\n",
       "      <td>0.10430</td>\n",
       "      <td>...</td>\n",
       "      <td>22.540</td>\n",
       "      <td>16.67</td>\n",
       "      <td>152.20</td>\n",
       "      <td>1575.0</td>\n",
       "      <td>0.13740</td>\n",
       "      <td>0.20500</td>\n",
       "      <td>0.4000</td>\n",
       "      <td>0.1625</td>\n",
       "      <td>0.2364</td>\n",
       "      <td>0.07678</td>\n",
       "    </tr>\n",
       "    <tr>\n",
       "      <th>...</th>\n",
       "      <td>...</td>\n",
       "      <td>...</td>\n",
       "      <td>...</td>\n",
       "      <td>...</td>\n",
       "      <td>...</td>\n",
       "      <td>...</td>\n",
       "      <td>...</td>\n",
       "      <td>...</td>\n",
       "      <td>...</td>\n",
       "      <td>...</td>\n",
       "      <td>...</td>\n",
       "      <td>...</td>\n",
       "      <td>...</td>\n",
       "      <td>...</td>\n",
       "      <td>...</td>\n",
       "      <td>...</td>\n",
       "      <td>...</td>\n",
       "      <td>...</td>\n",
       "      <td>...</td>\n",
       "      <td>...</td>\n",
       "      <td>...</td>\n",
       "    </tr>\n",
       "    <tr>\n",
       "      <th>564</th>\n",
       "      <td>926424</td>\n",
       "      <td>M</td>\n",
       "      <td>21.56</td>\n",
       "      <td>22.39</td>\n",
       "      <td>142.00</td>\n",
       "      <td>1479.0</td>\n",
       "      <td>0.11100</td>\n",
       "      <td>0.11590</td>\n",
       "      <td>0.24390</td>\n",
       "      <td>0.13890</td>\n",
       "      <td>...</td>\n",
       "      <td>25.450</td>\n",
       "      <td>26.40</td>\n",
       "      <td>166.10</td>\n",
       "      <td>2027.0</td>\n",
       "      <td>0.14100</td>\n",
       "      <td>0.21130</td>\n",
       "      <td>0.4107</td>\n",
       "      <td>0.2216</td>\n",
       "      <td>0.2060</td>\n",
       "      <td>0.07115</td>\n",
       "    </tr>\n",
       "    <tr>\n",
       "      <th>565</th>\n",
       "      <td>926682</td>\n",
       "      <td>M</td>\n",
       "      <td>20.13</td>\n",
       "      <td>28.25</td>\n",
       "      <td>131.20</td>\n",
       "      <td>1261.0</td>\n",
       "      <td>0.09780</td>\n",
       "      <td>0.10340</td>\n",
       "      <td>0.14400</td>\n",
       "      <td>0.09791</td>\n",
       "      <td>...</td>\n",
       "      <td>23.690</td>\n",
       "      <td>38.25</td>\n",
       "      <td>155.00</td>\n",
       "      <td>1731.0</td>\n",
       "      <td>0.11660</td>\n",
       "      <td>0.19220</td>\n",
       "      <td>0.3215</td>\n",
       "      <td>0.1628</td>\n",
       "      <td>0.2572</td>\n",
       "      <td>0.06637</td>\n",
       "    </tr>\n",
       "    <tr>\n",
       "      <th>566</th>\n",
       "      <td>926954</td>\n",
       "      <td>M</td>\n",
       "      <td>16.60</td>\n",
       "      <td>28.08</td>\n",
       "      <td>108.30</td>\n",
       "      <td>858.1</td>\n",
       "      <td>0.08455</td>\n",
       "      <td>0.10230</td>\n",
       "      <td>0.09251</td>\n",
       "      <td>0.05302</td>\n",
       "      <td>...</td>\n",
       "      <td>18.980</td>\n",
       "      <td>34.12</td>\n",
       "      <td>126.70</td>\n",
       "      <td>1124.0</td>\n",
       "      <td>0.11390</td>\n",
       "      <td>0.30940</td>\n",
       "      <td>0.3403</td>\n",
       "      <td>0.1418</td>\n",
       "      <td>0.2218</td>\n",
       "      <td>0.07820</td>\n",
       "    </tr>\n",
       "    <tr>\n",
       "      <th>567</th>\n",
       "      <td>927241</td>\n",
       "      <td>M</td>\n",
       "      <td>20.60</td>\n",
       "      <td>29.33</td>\n",
       "      <td>140.10</td>\n",
       "      <td>1265.0</td>\n",
       "      <td>0.11780</td>\n",
       "      <td>0.27700</td>\n",
       "      <td>0.35140</td>\n",
       "      <td>0.15200</td>\n",
       "      <td>...</td>\n",
       "      <td>25.740</td>\n",
       "      <td>39.42</td>\n",
       "      <td>184.60</td>\n",
       "      <td>1821.0</td>\n",
       "      <td>0.16500</td>\n",
       "      <td>0.86810</td>\n",
       "      <td>0.9387</td>\n",
       "      <td>0.2650</td>\n",
       "      <td>0.4087</td>\n",
       "      <td>0.12400</td>\n",
       "    </tr>\n",
       "    <tr>\n",
       "      <th>568</th>\n",
       "      <td>92751</td>\n",
       "      <td>B</td>\n",
       "      <td>7.76</td>\n",
       "      <td>24.54</td>\n",
       "      <td>47.92</td>\n",
       "      <td>181.0</td>\n",
       "      <td>0.05263</td>\n",
       "      <td>0.04362</td>\n",
       "      <td>0.00000</td>\n",
       "      <td>0.00000</td>\n",
       "      <td>...</td>\n",
       "      <td>9.456</td>\n",
       "      <td>30.37</td>\n",
       "      <td>59.16</td>\n",
       "      <td>268.6</td>\n",
       "      <td>0.08996</td>\n",
       "      <td>0.06444</td>\n",
       "      <td>0.0000</td>\n",
       "      <td>0.0000</td>\n",
       "      <td>0.2871</td>\n",
       "      <td>0.07039</td>\n",
       "    </tr>\n",
       "  </tbody>\n",
       "</table>\n",
       "<p>569 rows × 32 columns</p>\n",
       "</div>\n",
       "      <button class=\"colab-df-convert\" onclick=\"convertToInteractive('df-784e132a-2f33-4595-83ba-c4aa6cdee19c')\"\n",
       "              title=\"Convert this dataframe to an interactive table.\"\n",
       "              style=\"display:none;\">\n",
       "        \n",
       "  <svg xmlns=\"http://www.w3.org/2000/svg\" height=\"24px\"viewBox=\"0 0 24 24\"\n",
       "       width=\"24px\">\n",
       "    <path d=\"M0 0h24v24H0V0z\" fill=\"none\"/>\n",
       "    <path d=\"M18.56 5.44l.94 2.06.94-2.06 2.06-.94-2.06-.94-.94-2.06-.94 2.06-2.06.94zm-11 1L8.5 8.5l.94-2.06 2.06-.94-2.06-.94L8.5 2.5l-.94 2.06-2.06.94zm10 10l.94 2.06.94-2.06 2.06-.94-2.06-.94-.94-2.06-.94 2.06-2.06.94z\"/><path d=\"M17.41 7.96l-1.37-1.37c-.4-.4-.92-.59-1.43-.59-.52 0-1.04.2-1.43.59L10.3 9.45l-7.72 7.72c-.78.78-.78 2.05 0 2.83L4 21.41c.39.39.9.59 1.41.59.51 0 1.02-.2 1.41-.59l7.78-7.78 2.81-2.81c.8-.78.8-2.07 0-2.86zM5.41 20L4 18.59l7.72-7.72 1.47 1.35L5.41 20z\"/>\n",
       "  </svg>\n",
       "      </button>\n",
       "      \n",
       "  <style>\n",
       "    .colab-df-container {\n",
       "      display:flex;\n",
       "      flex-wrap:wrap;\n",
       "      gap: 12px;\n",
       "    }\n",
       "\n",
       "    .colab-df-convert {\n",
       "      background-color: #E8F0FE;\n",
       "      border: none;\n",
       "      border-radius: 50%;\n",
       "      cursor: pointer;\n",
       "      display: none;\n",
       "      fill: #1967D2;\n",
       "      height: 32px;\n",
       "      padding: 0 0 0 0;\n",
       "      width: 32px;\n",
       "    }\n",
       "\n",
       "    .colab-df-convert:hover {\n",
       "      background-color: #E2EBFA;\n",
       "      box-shadow: 0px 1px 2px rgba(60, 64, 67, 0.3), 0px 1px 3px 1px rgba(60, 64, 67, 0.15);\n",
       "      fill: #174EA6;\n",
       "    }\n",
       "\n",
       "    [theme=dark] .colab-df-convert {\n",
       "      background-color: #3B4455;\n",
       "      fill: #D2E3FC;\n",
       "    }\n",
       "\n",
       "    [theme=dark] .colab-df-convert:hover {\n",
       "      background-color: #434B5C;\n",
       "      box-shadow: 0px 1px 3px 1px rgba(0, 0, 0, 0.15);\n",
       "      filter: drop-shadow(0px 1px 2px rgba(0, 0, 0, 0.3));\n",
       "      fill: #FFFFFF;\n",
       "    }\n",
       "  </style>\n",
       "\n",
       "      <script>\n",
       "        const buttonEl =\n",
       "          document.querySelector('#df-784e132a-2f33-4595-83ba-c4aa6cdee19c button.colab-df-convert');\n",
       "        buttonEl.style.display =\n",
       "          google.colab.kernel.accessAllowed ? 'block' : 'none';\n",
       "\n",
       "        async function convertToInteractive(key) {\n",
       "          const element = document.querySelector('#df-784e132a-2f33-4595-83ba-c4aa6cdee19c');\n",
       "          const dataTable =\n",
       "            await google.colab.kernel.invokeFunction('convertToInteractive',\n",
       "                                                     [key], {});\n",
       "          if (!dataTable) return;\n",
       "\n",
       "          const docLinkHtml = 'Like what you see? Visit the ' +\n",
       "            '<a target=\"_blank\" href=https://colab.research.google.com/notebooks/data_table.ipynb>data table notebook</a>'\n",
       "            + ' to learn more about interactive tables.';\n",
       "          element.innerHTML = '';\n",
       "          dataTable['output_type'] = 'display_data';\n",
       "          await google.colab.output.renderOutput(dataTable, element);\n",
       "          const docLink = document.createElement('div');\n",
       "          docLink.innerHTML = docLinkHtml;\n",
       "          element.appendChild(docLink);\n",
       "        }\n",
       "      </script>\n",
       "    </div>\n",
       "  </div>\n",
       "  "
      ],
      "text/plain": [
       "           id diagnosis  radius_mean  texture_mean  perimeter_mean  area_mean  \\\n",
       "0      842302         M        17.99         10.38          122.80     1001.0   \n",
       "1      842517         M        20.57         17.77          132.90     1326.0   \n",
       "2    84300903         M        19.69         21.25          130.00     1203.0   \n",
       "3    84348301         M        11.42         20.38           77.58      386.1   \n",
       "4    84358402         M        20.29         14.34          135.10     1297.0   \n",
       "..        ...       ...          ...           ...             ...        ...   \n",
       "564    926424         M        21.56         22.39          142.00     1479.0   \n",
       "565    926682         M        20.13         28.25          131.20     1261.0   \n",
       "566    926954         M        16.60         28.08          108.30      858.1   \n",
       "567    927241         M        20.60         29.33          140.10     1265.0   \n",
       "568     92751         B         7.76         24.54           47.92      181.0   \n",
       "\n",
       "     smoothness_mean  compactness_mean  concavity_mean  concave points_mean  \\\n",
       "0            0.11840           0.27760         0.30010              0.14710   \n",
       "1            0.08474           0.07864         0.08690              0.07017   \n",
       "2            0.10960           0.15990         0.19740              0.12790   \n",
       "3            0.14250           0.28390         0.24140              0.10520   \n",
       "4            0.10030           0.13280         0.19800              0.10430   \n",
       "..               ...               ...             ...                  ...   \n",
       "564          0.11100           0.11590         0.24390              0.13890   \n",
       "565          0.09780           0.10340         0.14400              0.09791   \n",
       "566          0.08455           0.10230         0.09251              0.05302   \n",
       "567          0.11780           0.27700         0.35140              0.15200   \n",
       "568          0.05263           0.04362         0.00000              0.00000   \n",
       "\n",
       "     ...  radius_worst  texture_worst  perimeter_worst  area_worst  \\\n",
       "0    ...        25.380          17.33           184.60      2019.0   \n",
       "1    ...        24.990          23.41           158.80      1956.0   \n",
       "2    ...        23.570          25.53           152.50      1709.0   \n",
       "3    ...        14.910          26.50            98.87       567.7   \n",
       "4    ...        22.540          16.67           152.20      1575.0   \n",
       "..   ...           ...            ...              ...         ...   \n",
       "564  ...        25.450          26.40           166.10      2027.0   \n",
       "565  ...        23.690          38.25           155.00      1731.0   \n",
       "566  ...        18.980          34.12           126.70      1124.0   \n",
       "567  ...        25.740          39.42           184.60      1821.0   \n",
       "568  ...         9.456          30.37            59.16       268.6   \n",
       "\n",
       "     smoothness_worst  compactness_worst  concavity_worst  \\\n",
       "0             0.16220            0.66560           0.7119   \n",
       "1             0.12380            0.18660           0.2416   \n",
       "2             0.14440            0.42450           0.4504   \n",
       "3             0.20980            0.86630           0.6869   \n",
       "4             0.13740            0.20500           0.4000   \n",
       "..                ...                ...              ...   \n",
       "564           0.14100            0.21130           0.4107   \n",
       "565           0.11660            0.19220           0.3215   \n",
       "566           0.11390            0.30940           0.3403   \n",
       "567           0.16500            0.86810           0.9387   \n",
       "568           0.08996            0.06444           0.0000   \n",
       "\n",
       "     concave points_worst  symmetry_worst  fractal_dimension_worst  \n",
       "0                  0.2654          0.4601                  0.11890  \n",
       "1                  0.1860          0.2750                  0.08902  \n",
       "2                  0.2430          0.3613                  0.08758  \n",
       "3                  0.2575          0.6638                  0.17300  \n",
       "4                  0.1625          0.2364                  0.07678  \n",
       "..                    ...             ...                      ...  \n",
       "564                0.2216          0.2060                  0.07115  \n",
       "565                0.1628          0.2572                  0.06637  \n",
       "566                0.1418          0.2218                  0.07820  \n",
       "567                0.2650          0.4087                  0.12400  \n",
       "568                0.0000          0.2871                  0.07039  \n",
       "\n",
       "[569 rows x 32 columns]"
      ]
     },
     "execution_count": 423,
     "metadata": {},
     "output_type": "execute_result"
    }
   ],
   "source": [
    "data_df = pd.read_csv('data.csv')\n",
    "data_df"
   ]
  },
  {
   "cell_type": "markdown",
   "metadata": {
    "id": "VYwGAFlVgYCp"
   },
   "source": [
    "# **Parte 1**. EDA"
   ]
  },
  {
   "cell_type": "markdown",
   "metadata": {
    "id": "sMRGo-D345-l"
   },
   "source": [
    "Haz que el `id` sea el índice del dataframe y efectúa una exploración inicial de los datos a través de: "
   ]
  },
  {
   "cell_type": "code",
   "execution_count": null,
   "metadata": {
    "id": "nGNX5zIrxCI3"
   },
   "outputs": [],
   "source": [
    "data_df.set_index('id', inplace=True)"
   ]
  },
  {
   "cell_type": "markdown",
   "metadata": {
    "id": "OPfTGSQBgw5C"
   },
   "source": [
    "\n",
    "\n",
    "1a) Estadísticas descriptivas para todas las variables del dataframe. "
   ]
  },
  {
   "cell_type": "code",
   "execution_count": null,
   "metadata": {
    "id": "6TU1MMyF2Hjd"
   },
   "outputs": [],
   "source": []
  },
  {
   "cell_type": "markdown",
   "metadata": {
    "id": "cNI3gx-c4_9h"
   },
   "source": [
    "1b) Valores únicos por variable para identificar posibles variables categóricas. "
   ]
  },
  {
   "cell_type": "code",
   "execution_count": null,
   "metadata": {
    "id": "7uXxg0T62I9i"
   },
   "outputs": [],
   "source": []
  },
  {
   "cell_type": "markdown",
   "metadata": {
    "id": "EOo8M9uqQahu"
   },
   "source": [
    "1c) Búsqueda de valores faltantes."
   ]
  },
  {
   "cell_type": "code",
   "execution_count": null,
   "metadata": {
    "id": "jL3xc6ad2KP5"
   },
   "outputs": [],
   "source": []
  },
  {
   "cell_type": "markdown",
   "metadata": {
    "id": "HRDq4NY5QgRy"
   },
   "source": [
    "1d) Diagrama de barras para determinar la frecuencia de los diagnósticos (cantidad de observaciones con resultado benigno y maligno) "
   ]
  },
  {
   "cell_type": "code",
   "execution_count": null,
   "metadata": {
    "id": "d4kr3VWJ2L-t"
   },
   "outputs": [],
   "source": []
  },
  {
   "cell_type": "markdown",
   "metadata": {
    "id": "IctCTEc-Qk2X"
   },
   "source": [
    "2. Como hay tres valores relacionados con la misma característica (`mean`, `se` y `worst`) es muy probable que exista multicolinealidad en el conjunto. \n",
    "\n",
    "La multicolinealidad en regresión es una condición que ocurre cuando algunas variables predictoras están fuertemente correlacionadas entre sí, de tal manera que si se incluyen simultáneamente en un modelo, impiden explicar de manera correcta el efecto que cada una tiene sobre la variable respuesta. Existen muchas formas de analizar si hay colinealidad en los modelos, una de ellas es el alto coeficiente de correlación entre variables.\n",
    " \n",
    "Para observar este efecto, elabora un mapa de calor que cuantifique la correlación de las variables numéricas en el dataframe. "
   ]
  },
  {
   "cell_type": "code",
   "execution_count": null,
   "metadata": {
    "id": "FvRj8nF72PuA"
   },
   "outputs": [],
   "source": []
  },
  {
   "cell_type": "markdown",
   "metadata": {
    "id": "jKUPMFaSEDBB"
   },
   "source": [
    "Si te fijas en los valores de correlación entre las variables `_mean` y `_worst` es evidente la multicolinearidad. \n",
    "\n",
    "![Colinealidad2.jpg](data:image/jpeg;base64,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)\n",
    "\n",
    "Por ejemplo, la columna `radius_mean` tiene una correlación de 0.97 con la columna `radius_worst`. Esto es algo inevitable, porque las columnas \"peores\" son esencialmente solo un subconjunto de las columnas \"medias\". \n",
    " \n",
    "Para solucionar el problema numérico de la multicolinealidad, tradicionalmente se recurre a eliminar variables o efectuar análisis de componentes principales (PCA) con las `X`’s y usar los componentes como variables independientes en un modelo final.\n",
    " \n",
    "Conduciremos esta actividad en esos dos sentidos.\n"
   ]
  },
  {
   "cell_type": "markdown",
   "metadata": {
    "id": "EuZlbIv-3IkF"
   },
   "source": [
    "# **Parte 2**. Modelo con eliminación de variables altamente correlacionadas  "
   ]
  },
  {
   "cell_type": "markdown",
   "metadata": {
    "id": "nU-ha57k7RBh"
   },
   "source": [
    "Elimina las variables altamente correlacionadas:\n",
    "\n",
    "3a) Ahora que sabes que las variables `_mean` y `_worst` tienen correlación alta, hay que quitar del dataframe un conjunto. Borra las columnas `_worst`."
   ]
  },
  {
   "cell_type": "code",
   "execution_count": null,
   "metadata": {
    "id": "QFLrXcHa2Rfa"
   },
   "outputs": [],
   "source": []
  },
  {
   "cell_type": "markdown",
   "metadata": {
    "id": "HlBiF73J7lO1"
   },
   "source": [
    "3b. Entre las variables `_mean`, identifica patrones lineales con diagramas de dispersión usando:\n",
    "\n",
    "\n",
    "\n",
    "```Python\n",
    "sns.pairplot(data=data_df[['radius_mean', \n",
    "        'texture_mean', \n",
    "        'perimeter_mean', \n",
    "        'area_mean', \n",
    "        'smoothness_mean', \n",
    "        'compactness_mean', \n",
    "        'concavity_mean',\n",
    "        'concave points_mean', \n",
    "        'symmetry_mean', \n",
    "        'fractal_dimension_mean']]) \n",
    "```\n",
    "\n",
    "\n"
   ]
  },
  {
   "cell_type": "code",
   "execution_count": null,
   "metadata": {
    "id": "AS5sSK7v2SoL"
   },
   "outputs": [],
   "source": []
  },
  {
   "cell_type": "markdown",
   "metadata": {
    "id": "92danRSD78Tx"
   },
   "source": [
    "De la matriz podrás observar relaciones lineales bastante evidentes entre:\n",
    "\n",
    "\n",
    "*   `radius_mean`, `perimeter_mean` y `area_mean`\n",
    "*   `compactness_mean`, `concavity_mean`, `concave_points_mean`\n",
    " \n",
    "Sabemos que el perímetro y el área de un círculo, se calculan a partir del radio. Entonces, la relación entre las primeras tres variables es muy clara para nosotros. "
   ]
  },
  {
   "cell_type": "markdown",
   "metadata": {
    "id": "fcQ_poL98T_N"
   },
   "source": [
    "3c) Elabora otro mapa de calor confirmar con los valores de correlación.\n"
   ]
  },
  {
   "cell_type": "code",
   "execution_count": null,
   "metadata": {
    "id": "Txy8-IUS2UQQ"
   },
   "outputs": [],
   "source": []
  },
  {
   "cell_type": "markdown",
   "metadata": {
    "id": "f24K21E68ZfH"
   },
   "source": [
    "3d) Después de observar los valores, nos quedaremos con sólo una variable de cada trío: `radius_mean` y `compactness_mean`. Elimina las restantes, no sólo del conjunto `_mean`, sino también de `_se`. "
   ]
  },
  {
   "cell_type": "code",
   "execution_count": null,
   "metadata": {
    "id": "3Cn-jvui2WUJ"
   },
   "outputs": [],
   "source": []
  },
  {
   "cell_type": "markdown",
   "metadata": {
    "id": "j3Lw9fQD8kUD"
   },
   "source": [
    "Observa la distribución de las variables resultantes (deben ser 12): \n",
    "\n",
    "4a) Utilizando histogramas. Guarda en una variable (`skew_cols`) las que tengan marcado sesgo positivo. Para dar seguridad a tu selección, elige aquellas cuyo resultado de aplicar la función `skew()` sea mayor a 1. "
   ]
  },
  {
   "cell_type": "code",
   "execution_count": null,
   "metadata": {
    "id": "LWhUiX1I2aij"
   },
   "outputs": [],
   "source": []
  },
  {
   "cell_type": "markdown",
   "metadata": {
    "id": "EZBoIgnZ8xMw"
   },
   "source": [
    "4b) Dibujando box plots de todas las variables. Guarda en una variable (`scale_cols`) aquellas que no se encuentren en el intervalo [0,1]\n"
   ]
  },
  {
   "cell_type": "code",
   "execution_count": null,
   "metadata": {
    "id": "Mnta2LU02b1Q"
   },
   "outputs": [],
   "source": []
  },
  {
   "cell_type": "markdown",
   "metadata": {
    "id": "H83XmSXk85Z1"
   },
   "source": [
    "Con todo el análisis anterior, estamos listos para generar un modelo *baseline* denominado `logr_model`. Para ello:\n",
    "\n",
    "5a) Vuelve a leer el contenido del archivo, haz que el `id` sea el índice y separa las variables del dataframe: en `X` coloca los predictores y en `y` la variable de respuesta o salida (`diagnosis`). Divide el conjunto en entrenamiento y prueba (80:20) considerando el parámetro `random_state` con el valor de 1."
   ]
  },
  {
   "cell_type": "code",
   "execution_count": null,
   "metadata": {
    "id": "5QNeycb72dPq"
   },
   "outputs": [],
   "source": []
  },
  {
   "cell_type": "markdown",
   "metadata": {
    "id": "Ou6GTmn5kAXY"
   },
   "source": [
    "5b) Prepara un transformador, denominado `preprocessing`, para borrar las columnas altamente correlacionadas (las 18 variables que se determinaron en los ejercicios previos) Asegúrate de incluir el parámetro `remainder='passthrough'` para mantener el resto de las variables."
   ]
  },
  {
   "cell_type": "code",
   "execution_count": null,
   "metadata": {
    "id": "ThGwxCQ02eSa"
   },
   "outputs": [],
   "source": []
  },
  {
   "cell_type": "markdown",
   "metadata": {
    "id": "UCUkNdeR9SEk"
   },
   "source": [
    "5c) Entrena el modelo `logr_model` con el transformador `preprocessing` y  regresión logística. \n",
    "\n",
    "Como la salida `y` está en términos de las etiquetas `'B'` y `'M'`, en lugar de 0 y 1, para evaluar el modelo en el conjunto de prueba deberás especificar la clase positiva. En el caso de la matriz de confusión, indica el orden de las etiquetas con `labels=['B','M']`, porque `'B'` es la clase negativa (ésta se especifica primero) y `'M'` la positiva. Para las métricas de *recall* y *precision*, utiliza el parámetro `pos_label='M'`. Como *accuracy* ocupa la suma de ambas clases y el total de las observaciones, no requiere ninguna especificación. Si quisieras omitir estos parámetros, tendrías que sustituir `'B'` por 0 y `'M'` por 1, previo a la construcción del modelo. "
   ]
  },
  {
   "cell_type": "code",
   "execution_count": null,
   "metadata": {
    "id": "ZYExLL482tKD"
   },
   "outputs": [],
   "source": []
  },
  {
   "cell_type": "markdown",
   "metadata": {
    "id": "p_Y-Dpic99ys"
   },
   "source": [
    "Para generar un modelo `logr_model2` con transformación y escalamiento:\n",
    "\n",
    "6a) Modifica el transformador anterior para, además del borrado de las columnas correlacionadas, aplicar la raíz cuadrada a los predictores con sesgo (previamente almacenados en `skew_cols`) y escalamiento *MinMax* a los predictores con escala mayor a 1 (previamente almacenados en `scale_cols`) Como no todos los predictores serán eliminados o transformados, asegúrate de incluir el parámetro `remainder='passthrough'` "
   ]
  },
  {
   "cell_type": "code",
   "execution_count": null,
   "metadata": {
    "id": "IOsOTwFA2uZ-"
   },
   "outputs": [],
   "source": []
  },
  {
   "cell_type": "markdown",
   "metadata": {
    "id": "LRp9L_vV-Ow-"
   },
   "source": [
    "6b) Entrena el modelo `logr_model2` con regresión logística, aplicando previamente el transformador modificado. Evalúa el modelo en el conjunto de prueba con las mismas métricas."
   ]
  },
  {
   "cell_type": "code",
   "execution_count": null,
   "metadata": {
    "id": "bprMhWtM2xDe"
   },
   "outputs": [],
   "source": []
  },
  {
   "cell_type": "markdown",
   "metadata": {
    "id": "9X7ZSwcQufZA"
   },
   "source": [
    "# **Parte 3**. Modelo con aplicación de PCA "
   ]
  },
  {
   "cell_type": "markdown",
   "metadata": {
    "id": "qDQHw89n-Xez"
   },
   "source": [
    "7. Analizaremos el efecto de aplicar PCA a todas las variables. Recuerda que previo a aplicarlo es recomendado escalar todas las variables. Utiliza la clase `StandardScaler` para transformar `X`."
   ]
  },
  {
   "cell_type": "code",
   "execution_count": null,
   "metadata": {
    "id": "6mKObG0m2ynh"
   },
   "outputs": [],
   "source": []
  },
  {
   "cell_type": "markdown",
   "metadata": {
    "id": "p32YXXkQ-2wr"
   },
   "source": [
    "8. Aplica PCA al conjunto escalado y determina el número de componentes que explican el 99% de la varianza. "
   ]
  },
  {
   "cell_type": "code",
   "execution_count": null,
   "metadata": {
    "id": "hOsTSkC_20Sy"
   },
   "outputs": [],
   "source": []
  },
  {
   "cell_type": "markdown",
   "metadata": {
    "id": "Bj7NMTaUzK-S"
   },
   "source": [
    "9. Con el número de componentes determinado, estamos listos para generar un modelo `logr_model3` con PCA. Construye un pipeline que incluya el escalamiento estándar, el PCA con el número de componentes determinado y regresión logística. Entrena el modelo utilizando el  conjunto de entrenamiento y evalúalo en el conjunto de prueba con las mismas métricas."
   ]
  },
  {
   "cell_type": "code",
   "execution_count": null,
   "metadata": {
    "id": "RfaQ9LrP21qh"
   },
   "outputs": [],
   "source": []
  },
  {
   "cell_type": "markdown",
   "metadata": {
    "id": "itJ9anNUiTE5"
   },
   "source": [
    "10. En un modelo de diagnóstico médico, ¿cuál consideras que es la métrica más importante? ¿Cómo cambiarías (disminuir/aumentar) el *threshold*? ¿Por qué? "
   ]
  },
  {
   "cell_type": "code",
   "execution_count": null,
   "metadata": {},
   "outputs": [],
   "source": []
  },
  {
   "cell_type": "markdown",
   "metadata": {
    "id": "XKLCgE6q23is"
   },
   "source": []
  }
 ],
 "metadata": {
  "colab": {
   "provenance": []
  },
  "kernelspec": {
   "display_name": "Python 3 (ipykernel)",
   "language": "python",
   "name": "python3"
  },
  "language_info": {
   "codemirror_mode": {
    "name": "ipython",
    "version": 3
   },
   "file_extension": ".py",
   "mimetype": "text/x-python",
   "name": "python",
   "nbconvert_exporter": "python",
   "pygments_lexer": "ipython3",
   "version": "3.11.5"
  }
 },
 "nbformat": 4,
 "nbformat_minor": 1
}
