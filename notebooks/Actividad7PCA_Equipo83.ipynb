{
 "cells": [
  {
   "cell_type": "markdown",
   "metadata": {
    "id": "zZeKeQlF-0tP"
   },
   "source": [
    "### **MAESTRÍA EN INTELIGENCIA ARTIFICIAL APLICADA**\n",
    "\n",
    "#### **Curso: TC4029 - Ciencia y analítica de datos**\n",
    "\n",
    "Tecnológico de Monterrey\n",
    "\n",
    "Prof Grettel Barceló Alonso\n",
    "\n",
    "**Semana 7**\n",
    "Análisis de Componentes Principales (PCA)"
   ]
  },
  {
   "cell_type": "markdown",
   "metadata": {
    "id": "_jPAgA5K_Atl"
   },
   "source": [
    "---\n",
    "\n",
    "*   **NÚMERO DE EQUIPO:**\n",
    "*     Equipo #83\n",
    "\n",
    "---        \n",
    "        \n",
    "*   **MIEMBROS DEL EQUIPO:**\n",
    "*     Ernesto Damián Favela Vela: A00738581\n",
    "*     Gustavo Alejandro Garduño Macedo: A01795341\n",
    "*     Julia Gabriela Pinedo: A01795315\n",
    "*     Juan Manuel Rodríguez Mateos: A01794890\n",
    "\n",
    "---"
   ]
  },
  {
   "cell_type": "code",
   "execution_count": 13,
   "metadata": {
    "id": "wMArpaFx_Mbd"
   },
   "outputs": [],
   "source": [
    "# Importar Librerías\n",
    "\n",
    "import pandas as pd\n",
    "import numpy as np\n",
    "import matplotlib.pyplot as plt\n",
    "import seaborn as sns\n",
    "import scipy.stats as stats\n",
    "from tabulate import tabulate"
   ]
  },
  {
   "cell_type": "code",
   "execution_count": 14,
   "metadata": {
    "colab": {
     "base_uri": "https://localhost:8080/",
     "height": 424
    },
    "executionInfo": {
     "elapsed": 211,
     "status": "ok",
     "timestamp": 1672883664265,
     "user": {
      "displayName": "Grettel Barceló Alonso",
      "userId": "01577411478517144249"
     },
     "user_tz": 360
    },
    "id": "jenoVKNN_OhH",
    "outputId": "512454e4-b65d-4dd1-e812-5da603e7dd6b"
   },
   "outputs": [
    {
     "data": {
      "text/html": [
       "<div>\n",
       "<style scoped>\n",
       "    .dataframe tbody tr th:only-of-type {\n",
       "        vertical-align: middle;\n",
       "    }\n",
       "\n",
       "    .dataframe tbody tr th {\n",
       "        vertical-align: top;\n",
       "    }\n",
       "\n",
       "    .dataframe thead th {\n",
       "        text-align: right;\n",
       "    }\n",
       "</style>\n",
       "<table border=\"1\" class=\"dataframe\">\n",
       "  <thead>\n",
       "    <tr style=\"text-align: right;\">\n",
       "      <th></th>\n",
       "      <th>name</th>\n",
       "      <th>mfr</th>\n",
       "      <th>type</th>\n",
       "      <th>calories</th>\n",
       "      <th>protein</th>\n",
       "      <th>fat</th>\n",
       "      <th>sodium</th>\n",
       "      <th>fiber</th>\n",
       "      <th>carbo</th>\n",
       "      <th>sugars</th>\n",
       "      <th>potass</th>\n",
       "      <th>vitamins</th>\n",
       "      <th>shelf</th>\n",
       "      <th>weight</th>\n",
       "      <th>cups</th>\n",
       "      <th>rating</th>\n",
       "    </tr>\n",
       "  </thead>\n",
       "  <tbody>\n",
       "    <tr>\n",
       "      <th>0</th>\n",
       "      <td>100%_Bran</td>\n",
       "      <td>N</td>\n",
       "      <td>C</td>\n",
       "      <td>70</td>\n",
       "      <td>4</td>\n",
       "      <td>1</td>\n",
       "      <td>130</td>\n",
       "      <td>10.0</td>\n",
       "      <td>5.0</td>\n",
       "      <td>6.0</td>\n",
       "      <td>280.0</td>\n",
       "      <td>25</td>\n",
       "      <td>3</td>\n",
       "      <td>1.0</td>\n",
       "      <td>0.33</td>\n",
       "      <td>68.402973</td>\n",
       "    </tr>\n",
       "    <tr>\n",
       "      <th>1</th>\n",
       "      <td>100%_Natural_Bran</td>\n",
       "      <td>Q</td>\n",
       "      <td>C</td>\n",
       "      <td>120</td>\n",
       "      <td>3</td>\n",
       "      <td>5</td>\n",
       "      <td>15</td>\n",
       "      <td>2.0</td>\n",
       "      <td>8.0</td>\n",
       "      <td>8.0</td>\n",
       "      <td>135.0</td>\n",
       "      <td>0</td>\n",
       "      <td>3</td>\n",
       "      <td>1.0</td>\n",
       "      <td>1.00</td>\n",
       "      <td>33.983679</td>\n",
       "    </tr>\n",
       "    <tr>\n",
       "      <th>2</th>\n",
       "      <td>All-Bran</td>\n",
       "      <td>K</td>\n",
       "      <td>C</td>\n",
       "      <td>70</td>\n",
       "      <td>4</td>\n",
       "      <td>1</td>\n",
       "      <td>260</td>\n",
       "      <td>9.0</td>\n",
       "      <td>7.0</td>\n",
       "      <td>5.0</td>\n",
       "      <td>320.0</td>\n",
       "      <td>25</td>\n",
       "      <td>3</td>\n",
       "      <td>1.0</td>\n",
       "      <td>0.33</td>\n",
       "      <td>59.425505</td>\n",
       "    </tr>\n",
       "    <tr>\n",
       "      <th>3</th>\n",
       "      <td>All-Bran_with_Extra_Fiber</td>\n",
       "      <td>K</td>\n",
       "      <td>C</td>\n",
       "      <td>50</td>\n",
       "      <td>4</td>\n",
       "      <td>0</td>\n",
       "      <td>140</td>\n",
       "      <td>14.0</td>\n",
       "      <td>8.0</td>\n",
       "      <td>0.0</td>\n",
       "      <td>330.0</td>\n",
       "      <td>25</td>\n",
       "      <td>3</td>\n",
       "      <td>1.0</td>\n",
       "      <td>0.50</td>\n",
       "      <td>93.704912</td>\n",
       "    </tr>\n",
       "    <tr>\n",
       "      <th>4</th>\n",
       "      <td>Almond_Delight</td>\n",
       "      <td>R</td>\n",
       "      <td>C</td>\n",
       "      <td>110</td>\n",
       "      <td>2</td>\n",
       "      <td>2</td>\n",
       "      <td>200</td>\n",
       "      <td>1.0</td>\n",
       "      <td>14.0</td>\n",
       "      <td>8.0</td>\n",
       "      <td>NaN</td>\n",
       "      <td>25</td>\n",
       "      <td>3</td>\n",
       "      <td>1.0</td>\n",
       "      <td>0.75</td>\n",
       "      <td>34.384843</td>\n",
       "    </tr>\n",
       "    <tr>\n",
       "      <th>...</th>\n",
       "      <td>...</td>\n",
       "      <td>...</td>\n",
       "      <td>...</td>\n",
       "      <td>...</td>\n",
       "      <td>...</td>\n",
       "      <td>...</td>\n",
       "      <td>...</td>\n",
       "      <td>...</td>\n",
       "      <td>...</td>\n",
       "      <td>...</td>\n",
       "      <td>...</td>\n",
       "      <td>...</td>\n",
       "      <td>...</td>\n",
       "      <td>...</td>\n",
       "      <td>...</td>\n",
       "      <td>...</td>\n",
       "    </tr>\n",
       "    <tr>\n",
       "      <th>72</th>\n",
       "      <td>Triples</td>\n",
       "      <td>G</td>\n",
       "      <td>C</td>\n",
       "      <td>110</td>\n",
       "      <td>2</td>\n",
       "      <td>1</td>\n",
       "      <td>250</td>\n",
       "      <td>0.0</td>\n",
       "      <td>21.0</td>\n",
       "      <td>3.0</td>\n",
       "      <td>60.0</td>\n",
       "      <td>25</td>\n",
       "      <td>3</td>\n",
       "      <td>1.0</td>\n",
       "      <td>0.75</td>\n",
       "      <td>39.106174</td>\n",
       "    </tr>\n",
       "    <tr>\n",
       "      <th>73</th>\n",
       "      <td>Trix</td>\n",
       "      <td>G</td>\n",
       "      <td>C</td>\n",
       "      <td>110</td>\n",
       "      <td>1</td>\n",
       "      <td>1</td>\n",
       "      <td>140</td>\n",
       "      <td>0.0</td>\n",
       "      <td>13.0</td>\n",
       "      <td>12.0</td>\n",
       "      <td>25.0</td>\n",
       "      <td>25</td>\n",
       "      <td>2</td>\n",
       "      <td>1.0</td>\n",
       "      <td>1.00</td>\n",
       "      <td>27.753301</td>\n",
       "    </tr>\n",
       "    <tr>\n",
       "      <th>74</th>\n",
       "      <td>Wheat_Chex</td>\n",
       "      <td>R</td>\n",
       "      <td>C</td>\n",
       "      <td>100</td>\n",
       "      <td>3</td>\n",
       "      <td>1</td>\n",
       "      <td>230</td>\n",
       "      <td>3.0</td>\n",
       "      <td>17.0</td>\n",
       "      <td>3.0</td>\n",
       "      <td>115.0</td>\n",
       "      <td>25</td>\n",
       "      <td>1</td>\n",
       "      <td>1.0</td>\n",
       "      <td>0.67</td>\n",
       "      <td>49.787445</td>\n",
       "    </tr>\n",
       "    <tr>\n",
       "      <th>75</th>\n",
       "      <td>Wheaties</td>\n",
       "      <td>G</td>\n",
       "      <td>C</td>\n",
       "      <td>100</td>\n",
       "      <td>3</td>\n",
       "      <td>1</td>\n",
       "      <td>200</td>\n",
       "      <td>3.0</td>\n",
       "      <td>17.0</td>\n",
       "      <td>3.0</td>\n",
       "      <td>110.0</td>\n",
       "      <td>25</td>\n",
       "      <td>1</td>\n",
       "      <td>1.0</td>\n",
       "      <td>1.00</td>\n",
       "      <td>51.592193</td>\n",
       "    </tr>\n",
       "    <tr>\n",
       "      <th>76</th>\n",
       "      <td>Wheaties_Honey_Gold</td>\n",
       "      <td>G</td>\n",
       "      <td>C</td>\n",
       "      <td>110</td>\n",
       "      <td>2</td>\n",
       "      <td>1</td>\n",
       "      <td>200</td>\n",
       "      <td>1.0</td>\n",
       "      <td>16.0</td>\n",
       "      <td>8.0</td>\n",
       "      <td>60.0</td>\n",
       "      <td>25</td>\n",
       "      <td>1</td>\n",
       "      <td>1.0</td>\n",
       "      <td>0.75</td>\n",
       "      <td>36.187559</td>\n",
       "    </tr>\n",
       "  </tbody>\n",
       "</table>\n",
       "<p>77 rows × 16 columns</p>\n",
       "</div>"
      ],
      "text/plain": [
       "                         name mfr type  calories  protein  fat  sodium  fiber  \\\n",
       "0                   100%_Bran   N    C        70        4    1     130   10.0   \n",
       "1           100%_Natural_Bran   Q    C       120        3    5      15    2.0   \n",
       "2                    All-Bran   K    C        70        4    1     260    9.0   \n",
       "3   All-Bran_with_Extra_Fiber   K    C        50        4    0     140   14.0   \n",
       "4              Almond_Delight   R    C       110        2    2     200    1.0   \n",
       "..                        ...  ..  ...       ...      ...  ...     ...    ...   \n",
       "72                    Triples   G    C       110        2    1     250    0.0   \n",
       "73                       Trix   G    C       110        1    1     140    0.0   \n",
       "74                 Wheat_Chex   R    C       100        3    1     230    3.0   \n",
       "75                   Wheaties   G    C       100        3    1     200    3.0   \n",
       "76        Wheaties_Honey_Gold   G    C       110        2    1     200    1.0   \n",
       "\n",
       "    carbo  sugars  potass  vitamins  shelf  weight  cups     rating  \n",
       "0     5.0     6.0   280.0        25      3     1.0  0.33  68.402973  \n",
       "1     8.0     8.0   135.0         0      3     1.0  1.00  33.983679  \n",
       "2     7.0     5.0   320.0        25      3     1.0  0.33  59.425505  \n",
       "3     8.0     0.0   330.0        25      3     1.0  0.50  93.704912  \n",
       "4    14.0     8.0     NaN        25      3     1.0  0.75  34.384843  \n",
       "..    ...     ...     ...       ...    ...     ...   ...        ...  \n",
       "72   21.0     3.0    60.0        25      3     1.0  0.75  39.106174  \n",
       "73   13.0    12.0    25.0        25      2     1.0  1.00  27.753301  \n",
       "74   17.0     3.0   115.0        25      1     1.0  0.67  49.787445  \n",
       "75   17.0     3.0   110.0        25      1     1.0  1.00  51.592193  \n",
       "76   16.0     8.0    60.0        25      1     1.0  0.75  36.187559  \n",
       "\n",
       "[77 rows x 16 columns]"
      ]
     },
     "execution_count": 14,
     "metadata": {},
     "output_type": "execute_result"
    }
   ],
   "source": [
    "# Cargar el DataFrame\n",
    "\n",
    "# cereals_df = pd.read_csv('../data/Cereals.csv')\n",
    "cereals_df = pd.read_csv(r'../notebooks/Cereals.csv')\n",
    "cereals_df"
   ]
  },
  {
   "cell_type": "markdown",
   "metadata": {
    "id": "VYwGAFlVgYCp"
   },
   "source": [
    "# **Parte 1**. EDA y preprocesamiento"
   ]
  },
  {
   "cell_type": "markdown",
   "metadata": {
    "id": "OPfTGSQBgw5C"
   },
   "source": [
    "1. Obtén estadísticas descriptivas para todas las variables del dataframe."
   ]
  },
  {
   "cell_type": "code",
   "execution_count": 15,
   "metadata": {
    "id": "H_BmzXNlB7SN"
   },
   "outputs": [],
   "source": [
    "# *************************** PARTE 0: Clasificación de estadísticas *****************************\n",
    "\n",
    "# Opcional: Se creará una función para etiquetar las variables de acuerdo con la categoría a la\n",
    "# que pertenecen, para visualizarlos en una tabla.\n",
    "\n",
    "def separate_variables_by_type(df):\n",
    "    \"\"\"\n",
    "    Separar las columnas entre numéricas (dtype= int, float) y cualitativas (dtype= object)\n",
    "\n",
    "    Args:\n",
    "        df (DataFrame)\n",
    "\n",
    "    Returns:\n",
    "        numeric_df (tabla impresa clasificando a las variables numéricas)\n",
    "        object_df (tabla impresa clasificando a las variables categóricas)\n",
    "    \"\"\"\n",
    "    numeric_columns = df.select_dtypes(include=['int', 'float']).columns\n",
    "    object_columns = df.select_dtypes(include=['object']).columns\n",
    "\n",
    "    # Se declara una lista vacía, la cual se utilizará para almacenar los datos en el dataframe\n",
    "    # que se generará\n",
    "    data_types = []\n",
    "\n",
    "    # Ciclo \"for\" obtener los data types de cada una de las columnas\n",
    "    for col in df.columns:\n",
    "        if col in numeric_columns:\n",
    "            data_type = \"Numeric\" # Etiqueta para el tipo \"numérico\"\n",
    "        elif col in object_columns:\n",
    "            data_type = \"Object\" # Etiqueta para el tipo \"objeto\"\n",
    "        data_types.append((col, data_type)) # Guarda las etiquetas de las columnas en la lista\n",
    "\n",
    "    # Crea un DataFrame para las columnas numéricas\n",
    "    numeric_df = pd.DataFrame([i for i in data_types if i[1] == \"Numeric\"],\n",
    "                                   columns=[\"Variable\", \"Categoría\"])\n",
    "    # Crea un DataFrame para las columnas de texto\n",
    "    object_df = pd.DataFrame([i for i in data_types if i[1] == \"Object\"],\n",
    "                                  columns=[\"Variable\", \"Categoría\"])\n",
    "\n",
    "    # Imprimir las tablas con los datos\n",
    "    print('Columnas del tipo \"Numeric\":')\n",
    "    print(tabulate(numeric_df, headers=\"keys\", tablefmt=\"psql\", showindex=True))\n",
    "    print('\\n\\n')\n",
    "    print('Columnas del tipo \"Object\":')\n",
    "    print(tabulate(object_df, headers=\"keys\", tablefmt=\"psql\", showindex=True))"
   ]
  },
  {
   "cell_type": "code",
   "execution_count": 16,
   "metadata": {
    "id": "s__uYVZmB7SN",
    "outputId": "3ed08974-7f17-4ab7-c866-3ebe928dc8f2"
   },
   "outputs": [
    {
     "name": "stdout",
     "output_type": "stream",
     "text": [
      "Columnas del tipo \"Numeric\":\n",
      "+----+------------+-------------+\n",
      "|    | Variable   | Categoría   |\n",
      "|----+------------+-------------|\n",
      "|  0 | calories   | Numeric     |\n",
      "|  1 | protein    | Numeric     |\n",
      "|  2 | fat        | Numeric     |\n",
      "|  3 | sodium     | Numeric     |\n",
      "|  4 | fiber      | Numeric     |\n",
      "|  5 | carbo      | Numeric     |\n",
      "|  6 | sugars     | Numeric     |\n",
      "|  7 | potass     | Numeric     |\n",
      "|  8 | vitamins   | Numeric     |\n",
      "|  9 | shelf      | Numeric     |\n",
      "| 10 | weight     | Numeric     |\n",
      "| 11 | cups       | Numeric     |\n",
      "| 12 | rating     | Numeric     |\n",
      "+----+------------+-------------+\n",
      "\n",
      "\n",
      "\n",
      "Columnas del tipo \"Object\":\n",
      "+----+------------+-------------+\n",
      "|    | Variable   | Categoría   |\n",
      "|----+------------+-------------|\n",
      "|  0 | name       | Object      |\n",
      "|  1 | mfr        | Object      |\n",
      "|  2 | type       | Object      |\n",
      "+----+------------+-------------+\n"
     ]
    }
   ],
   "source": [
    "# Se imprimen las columnas separadas por categoría.\n",
    "\n",
    "columns_separated = separate_variables_by_type(df=cereals_df)"
   ]
  },
  {
   "cell_type": "code",
   "execution_count": 17,
   "metadata": {
    "id": "LBoyX1cAB7SQ"
   },
   "outputs": [
    {
     "data": {
      "text/html": [
       "<div>\n",
       "<style scoped>\n",
       "    .dataframe tbody tr th:only-of-type {\n",
       "        vertical-align: middle;\n",
       "    }\n",
       "\n",
       "    .dataframe tbody tr th {\n",
       "        vertical-align: top;\n",
       "    }\n",
       "\n",
       "    .dataframe thead th {\n",
       "        text-align: right;\n",
       "    }\n",
       "</style>\n",
       "<table border=\"1\" class=\"dataframe\">\n",
       "  <thead>\n",
       "    <tr style=\"text-align: right;\">\n",
       "      <th></th>\n",
       "      <th>name</th>\n",
       "      <th>mfr</th>\n",
       "      <th>type</th>\n",
       "      <th>calories</th>\n",
       "      <th>protein</th>\n",
       "      <th>fat</th>\n",
       "      <th>sodium</th>\n",
       "      <th>fiber</th>\n",
       "      <th>carbo</th>\n",
       "      <th>sugars</th>\n",
       "      <th>potass</th>\n",
       "      <th>vitamins</th>\n",
       "      <th>shelf</th>\n",
       "      <th>weight</th>\n",
       "      <th>cups</th>\n",
       "      <th>rating</th>\n",
       "    </tr>\n",
       "  </thead>\n",
       "  <tbody>\n",
       "    <tr>\n",
       "      <th>0</th>\n",
       "      <td>100%_Bran</td>\n",
       "      <td>N</td>\n",
       "      <td>C</td>\n",
       "      <td>70</td>\n",
       "      <td>4</td>\n",
       "      <td>1</td>\n",
       "      <td>130</td>\n",
       "      <td>10.0</td>\n",
       "      <td>5.0</td>\n",
       "      <td>6.0</td>\n",
       "      <td>280.0</td>\n",
       "      <td>25</td>\n",
       "      <td>Shelf_Level_3</td>\n",
       "      <td>1.0</td>\n",
       "      <td>0.33</td>\n",
       "      <td>68.402973</td>\n",
       "    </tr>\n",
       "    <tr>\n",
       "      <th>1</th>\n",
       "      <td>100%_Natural_Bran</td>\n",
       "      <td>Q</td>\n",
       "      <td>C</td>\n",
       "      <td>120</td>\n",
       "      <td>3</td>\n",
       "      <td>5</td>\n",
       "      <td>15</td>\n",
       "      <td>2.0</td>\n",
       "      <td>8.0</td>\n",
       "      <td>8.0</td>\n",
       "      <td>135.0</td>\n",
       "      <td>0</td>\n",
       "      <td>Shelf_Level_3</td>\n",
       "      <td>1.0</td>\n",
       "      <td>1.00</td>\n",
       "      <td>33.983679</td>\n",
       "    </tr>\n",
       "    <tr>\n",
       "      <th>2</th>\n",
       "      <td>All-Bran</td>\n",
       "      <td>K</td>\n",
       "      <td>C</td>\n",
       "      <td>70</td>\n",
       "      <td>4</td>\n",
       "      <td>1</td>\n",
       "      <td>260</td>\n",
       "      <td>9.0</td>\n",
       "      <td>7.0</td>\n",
       "      <td>5.0</td>\n",
       "      <td>320.0</td>\n",
       "      <td>25</td>\n",
       "      <td>Shelf_Level_3</td>\n",
       "      <td>1.0</td>\n",
       "      <td>0.33</td>\n",
       "      <td>59.425505</td>\n",
       "    </tr>\n",
       "    <tr>\n",
       "      <th>3</th>\n",
       "      <td>All-Bran_with_Extra_Fiber</td>\n",
       "      <td>K</td>\n",
       "      <td>C</td>\n",
       "      <td>50</td>\n",
       "      <td>4</td>\n",
       "      <td>0</td>\n",
       "      <td>140</td>\n",
       "      <td>14.0</td>\n",
       "      <td>8.0</td>\n",
       "      <td>0.0</td>\n",
       "      <td>330.0</td>\n",
       "      <td>25</td>\n",
       "      <td>Shelf_Level_3</td>\n",
       "      <td>1.0</td>\n",
       "      <td>0.50</td>\n",
       "      <td>93.704912</td>\n",
       "    </tr>\n",
       "    <tr>\n",
       "      <th>4</th>\n",
       "      <td>Almond_Delight</td>\n",
       "      <td>R</td>\n",
       "      <td>C</td>\n",
       "      <td>110</td>\n",
       "      <td>2</td>\n",
       "      <td>2</td>\n",
       "      <td>200</td>\n",
       "      <td>1.0</td>\n",
       "      <td>14.0</td>\n",
       "      <td>8.0</td>\n",
       "      <td>NaN</td>\n",
       "      <td>25</td>\n",
       "      <td>Shelf_Level_3</td>\n",
       "      <td>1.0</td>\n",
       "      <td>0.75</td>\n",
       "      <td>34.384843</td>\n",
       "    </tr>\n",
       "  </tbody>\n",
       "</table>\n",
       "</div>"
      ],
      "text/plain": [
       "                        name mfr type  calories  protein  fat  sodium  fiber  \\\n",
       "0                  100%_Bran   N    C        70        4    1     130   10.0   \n",
       "1          100%_Natural_Bran   Q    C       120        3    5      15    2.0   \n",
       "2                   All-Bran   K    C        70        4    1     260    9.0   \n",
       "3  All-Bran_with_Extra_Fiber   K    C        50        4    0     140   14.0   \n",
       "4             Almond_Delight   R    C       110        2    2     200    1.0   \n",
       "\n",
       "   carbo  sugars  potass  vitamins          shelf  weight  cups     rating  \n",
       "0    5.0     6.0   280.0        25  Shelf_Level_3     1.0  0.33  68.402973  \n",
       "1    8.0     8.0   135.0         0  Shelf_Level_3     1.0  1.00  33.983679  \n",
       "2    7.0     5.0   320.0        25  Shelf_Level_3     1.0  0.33  59.425505  \n",
       "3    8.0     0.0   330.0        25  Shelf_Level_3     1.0  0.50  93.704912  \n",
       "4   14.0     8.0     NaN        25  Shelf_Level_3     1.0  0.75  34.384843  "
      ]
     },
     "execution_count": 17,
     "metadata": {},
     "output_type": "execute_result"
    }
   ],
   "source": [
    "# NOTA: A pesar de que la variable \"shelf\" se clasificó como una variable numérica, esta en\n",
    "# realidad una variable cualitativa ordinal, debido a que clasifica el estante donde se\n",
    "# encuentra exhibido el cereal (contando desde el piso). Para efectos de análisis posteriores,\n",
    "# se convertirá esta variable a categórica. Tomando en cuenta dicha información, se etiquetará\n",
    "# de acuerdo con el nivel (level 1, level 2, level 3) de cada estante.\n",
    "\n",
    "# ************************ PARTE 0.1: Transformando la variable \"shelf\" **************************\n",
    "\n",
    "# Nombrar las categorías y reemplazarlas en el DF\n",
    "shelf_categories = {1: 'Shelf_Level_1', 2: 'Shelf_Level_2', 3: 'Shelf_Level_3'}\n",
    "cereals_df['shelf'] = cereals_df['shelf'].map(shelf_categories)\n",
    "\n",
    "# Verificar composición del DataFrame después del etiquetado de \"shelf\"\n",
    "cereals_df.head()"
   ]
  },
  {
   "cell_type": "code",
   "execution_count": 18,
   "metadata": {},
   "outputs": [
    {
     "name": "stdout",
     "output_type": "stream",
     "text": [
      "Columnas del tipo \"Numeric\":\n",
      "+----+------------+-------------+\n",
      "|    | Variable   | Categoría   |\n",
      "|----+------------+-------------|\n",
      "|  0 | calories   | Numeric     |\n",
      "|  1 | protein    | Numeric     |\n",
      "|  2 | fat        | Numeric     |\n",
      "|  3 | sodium     | Numeric     |\n",
      "|  4 | fiber      | Numeric     |\n",
      "|  5 | carbo      | Numeric     |\n",
      "|  6 | sugars     | Numeric     |\n",
      "|  7 | potass     | Numeric     |\n",
      "|  8 | vitamins   | Numeric     |\n",
      "|  9 | weight     | Numeric     |\n",
      "| 10 | cups       | Numeric     |\n",
      "| 11 | rating     | Numeric     |\n",
      "+----+------------+-------------+\n",
      "\n",
      "\n",
      "\n",
      "Columnas del tipo \"Object\":\n",
      "+----+------------+-------------+\n",
      "|    | Variable   | Categoría   |\n",
      "|----+------------+-------------|\n",
      "|  0 | name       | Object      |\n",
      "|  1 | mfr        | Object      |\n",
      "|  2 | type       | Object      |\n",
      "|  3 | shelf      | Object      |\n",
      "+----+------------+-------------+\n"
     ]
    }
   ],
   "source": [
    "# ****************************** PARTE 1: Resumen de estadísticas ********************************\n",
    "\n",
    "# Se clasificarán las columnas según el tipo de variable\n",
    "columns_separated_after_encoding = separate_variables_by_type(df=cereals_df)"
   ]
  },
  {
   "cell_type": "code",
   "execution_count": 19,
   "metadata": {
    "id": "07VOb9HMuAnx",
    "outputId": "0dc16488-655e-4d62-e2d9-964880a990da"
   },
   "outputs": [
    {
     "data": {
      "text/html": [
       "<div>\n",
       "<style scoped>\n",
       "    .dataframe tbody tr th:only-of-type {\n",
       "        vertical-align: middle;\n",
       "    }\n",
       "\n",
       "    .dataframe tbody tr th {\n",
       "        vertical-align: top;\n",
       "    }\n",
       "\n",
       "    .dataframe thead th {\n",
       "        text-align: right;\n",
       "    }\n",
       "</style>\n",
       "<table border=\"1\" class=\"dataframe\">\n",
       "  <thead>\n",
       "    <tr style=\"text-align: right;\">\n",
       "      <th></th>\n",
       "      <th>count</th>\n",
       "      <th>mean</th>\n",
       "      <th>std</th>\n",
       "      <th>min</th>\n",
       "      <th>25%</th>\n",
       "      <th>50%</th>\n",
       "      <th>75%</th>\n",
       "      <th>max</th>\n",
       "    </tr>\n",
       "  </thead>\n",
       "  <tbody>\n",
       "    <tr>\n",
       "      <th>calories</th>\n",
       "      <td>77.0</td>\n",
       "      <td>106.883117</td>\n",
       "      <td>19.484119</td>\n",
       "      <td>50.000000</td>\n",
       "      <td>100.000000</td>\n",
       "      <td>110.000000</td>\n",
       "      <td>110.000000</td>\n",
       "      <td>160.000000</td>\n",
       "    </tr>\n",
       "    <tr>\n",
       "      <th>protein</th>\n",
       "      <td>77.0</td>\n",
       "      <td>2.545455</td>\n",
       "      <td>1.094790</td>\n",
       "      <td>1.000000</td>\n",
       "      <td>2.000000</td>\n",
       "      <td>3.000000</td>\n",
       "      <td>3.000000</td>\n",
       "      <td>6.000000</td>\n",
       "    </tr>\n",
       "    <tr>\n",
       "      <th>fat</th>\n",
       "      <td>77.0</td>\n",
       "      <td>1.012987</td>\n",
       "      <td>1.006473</td>\n",
       "      <td>0.000000</td>\n",
       "      <td>0.000000</td>\n",
       "      <td>1.000000</td>\n",
       "      <td>2.000000</td>\n",
       "      <td>5.000000</td>\n",
       "    </tr>\n",
       "    <tr>\n",
       "      <th>sodium</th>\n",
       "      <td>77.0</td>\n",
       "      <td>159.675325</td>\n",
       "      <td>83.832295</td>\n",
       "      <td>0.000000</td>\n",
       "      <td>130.000000</td>\n",
       "      <td>180.000000</td>\n",
       "      <td>210.000000</td>\n",
       "      <td>320.000000</td>\n",
       "    </tr>\n",
       "    <tr>\n",
       "      <th>fiber</th>\n",
       "      <td>77.0</td>\n",
       "      <td>2.151948</td>\n",
       "      <td>2.383364</td>\n",
       "      <td>0.000000</td>\n",
       "      <td>1.000000</td>\n",
       "      <td>2.000000</td>\n",
       "      <td>3.000000</td>\n",
       "      <td>14.000000</td>\n",
       "    </tr>\n",
       "    <tr>\n",
       "      <th>carbo</th>\n",
       "      <td>76.0</td>\n",
       "      <td>14.802632</td>\n",
       "      <td>3.907326</td>\n",
       "      <td>5.000000</td>\n",
       "      <td>12.000000</td>\n",
       "      <td>14.500000</td>\n",
       "      <td>17.000000</td>\n",
       "      <td>23.000000</td>\n",
       "    </tr>\n",
       "    <tr>\n",
       "      <th>sugars</th>\n",
       "      <td>76.0</td>\n",
       "      <td>7.026316</td>\n",
       "      <td>4.378656</td>\n",
       "      <td>0.000000</td>\n",
       "      <td>3.000000</td>\n",
       "      <td>7.000000</td>\n",
       "      <td>11.000000</td>\n",
       "      <td>15.000000</td>\n",
       "    </tr>\n",
       "    <tr>\n",
       "      <th>potass</th>\n",
       "      <td>75.0</td>\n",
       "      <td>98.666667</td>\n",
       "      <td>70.410636</td>\n",
       "      <td>15.000000</td>\n",
       "      <td>42.500000</td>\n",
       "      <td>90.000000</td>\n",
       "      <td>120.000000</td>\n",
       "      <td>330.000000</td>\n",
       "    </tr>\n",
       "    <tr>\n",
       "      <th>vitamins</th>\n",
       "      <td>77.0</td>\n",
       "      <td>28.246753</td>\n",
       "      <td>22.342523</td>\n",
       "      <td>0.000000</td>\n",
       "      <td>25.000000</td>\n",
       "      <td>25.000000</td>\n",
       "      <td>25.000000</td>\n",
       "      <td>100.000000</td>\n",
       "    </tr>\n",
       "    <tr>\n",
       "      <th>weight</th>\n",
       "      <td>77.0</td>\n",
       "      <td>1.029610</td>\n",
       "      <td>0.150477</td>\n",
       "      <td>0.500000</td>\n",
       "      <td>1.000000</td>\n",
       "      <td>1.000000</td>\n",
       "      <td>1.000000</td>\n",
       "      <td>1.500000</td>\n",
       "    </tr>\n",
       "    <tr>\n",
       "      <th>cups</th>\n",
       "      <td>77.0</td>\n",
       "      <td>0.821039</td>\n",
       "      <td>0.232716</td>\n",
       "      <td>0.250000</td>\n",
       "      <td>0.670000</td>\n",
       "      <td>0.750000</td>\n",
       "      <td>1.000000</td>\n",
       "      <td>1.500000</td>\n",
       "    </tr>\n",
       "    <tr>\n",
       "      <th>rating</th>\n",
       "      <td>77.0</td>\n",
       "      <td>42.665705</td>\n",
       "      <td>14.047289</td>\n",
       "      <td>18.042851</td>\n",
       "      <td>33.174094</td>\n",
       "      <td>40.400208</td>\n",
       "      <td>50.828392</td>\n",
       "      <td>93.704912</td>\n",
       "    </tr>\n",
       "  </tbody>\n",
       "</table>\n",
       "</div>"
      ],
      "text/plain": [
       "          count        mean        std        min         25%         50%  \\\n",
       "calories   77.0  106.883117  19.484119  50.000000  100.000000  110.000000   \n",
       "protein    77.0    2.545455   1.094790   1.000000    2.000000    3.000000   \n",
       "fat        77.0    1.012987   1.006473   0.000000    0.000000    1.000000   \n",
       "sodium     77.0  159.675325  83.832295   0.000000  130.000000  180.000000   \n",
       "fiber      77.0    2.151948   2.383364   0.000000    1.000000    2.000000   \n",
       "carbo      76.0   14.802632   3.907326   5.000000   12.000000   14.500000   \n",
       "sugars     76.0    7.026316   4.378656   0.000000    3.000000    7.000000   \n",
       "potass     75.0   98.666667  70.410636  15.000000   42.500000   90.000000   \n",
       "vitamins   77.0   28.246753  22.342523   0.000000   25.000000   25.000000   \n",
       "weight     77.0    1.029610   0.150477   0.500000    1.000000    1.000000   \n",
       "cups       77.0    0.821039   0.232716   0.250000    0.670000    0.750000   \n",
       "rating     77.0   42.665705  14.047289  18.042851   33.174094   40.400208   \n",
       "\n",
       "                 75%         max  \n",
       "calories  110.000000  160.000000  \n",
       "protein     3.000000    6.000000  \n",
       "fat         2.000000    5.000000  \n",
       "sodium    210.000000  320.000000  \n",
       "fiber       3.000000   14.000000  \n",
       "carbo      17.000000   23.000000  \n",
       "sugars     11.000000   15.000000  \n",
       "potass    120.000000  330.000000  \n",
       "vitamins   25.000000  100.000000  \n",
       "weight      1.000000    1.500000  \n",
       "cups        1.000000    1.500000  \n",
       "rating     50.828392   93.704912  "
      ]
     },
     "execution_count": 19,
     "metadata": {},
     "output_type": "execute_result"
    }
   ],
   "source": [
    "\"\"\"Estadísticas descriptivas para las variables numéricas del DataFrame\"\"\"\n",
    "\n",
    "# Se declara la función \".describe()\" para obtener los datos estadísticos de las columnas que\n",
    "# se clasificaron como \"numéricas\".\n",
    "\n",
    "numeric_columns = cereals_df.select_dtypes(include=['int', 'float']).columns\n",
    "\n",
    "numerical_summary = cereals_df[numeric_columns].describe()\n",
    "numerical_summary.T"
   ]
  },
  {
   "cell_type": "code",
   "execution_count": 20,
   "metadata": {
    "id": "1hUSPsooB7SQ",
    "outputId": "1b307b5e-aacf-4c18-c53d-1b3188e94524"
   },
   "outputs": [
    {
     "data": {
      "text/html": [
       "<div>\n",
       "<style scoped>\n",
       "    .dataframe tbody tr th:only-of-type {\n",
       "        vertical-align: middle;\n",
       "    }\n",
       "\n",
       "    .dataframe tbody tr th {\n",
       "        vertical-align: top;\n",
       "    }\n",
       "\n",
       "    .dataframe thead th {\n",
       "        text-align: right;\n",
       "    }\n",
       "</style>\n",
       "<table border=\"1\" class=\"dataframe\">\n",
       "  <thead>\n",
       "    <tr style=\"text-align: right;\">\n",
       "      <th></th>\n",
       "      <th>count</th>\n",
       "      <th>unique</th>\n",
       "      <th>top</th>\n",
       "      <th>freq</th>\n",
       "    </tr>\n",
       "  </thead>\n",
       "  <tbody>\n",
       "    <tr>\n",
       "      <th>name</th>\n",
       "      <td>77</td>\n",
       "      <td>77</td>\n",
       "      <td>100%_Bran</td>\n",
       "      <td>1</td>\n",
       "    </tr>\n",
       "    <tr>\n",
       "      <th>mfr</th>\n",
       "      <td>77</td>\n",
       "      <td>7</td>\n",
       "      <td>K</td>\n",
       "      <td>23</td>\n",
       "    </tr>\n",
       "    <tr>\n",
       "      <th>type</th>\n",
       "      <td>77</td>\n",
       "      <td>2</td>\n",
       "      <td>C</td>\n",
       "      <td>74</td>\n",
       "    </tr>\n",
       "    <tr>\n",
       "      <th>shelf</th>\n",
       "      <td>77</td>\n",
       "      <td>3</td>\n",
       "      <td>Shelf_Level_3</td>\n",
       "      <td>36</td>\n",
       "    </tr>\n",
       "  </tbody>\n",
       "</table>\n",
       "</div>"
      ],
      "text/plain": [
       "      count unique            top freq\n",
       "name     77     77      100%_Bran    1\n",
       "mfr      77      7              K   23\n",
       "type     77      2              C   74\n",
       "shelf    77      3  Shelf_Level_3   36"
      ]
     },
     "execution_count": 20,
     "metadata": {},
     "output_type": "execute_result"
    }
   ],
   "source": [
    "\"\"\"Estadísticas descriptivas para las variables numéricas del DataFrame\"\"\"\n",
    "\n",
    "# Se obtienen los datos estadísticos de las columnas clasificadas como \"categóricas\".\n",
    "\n",
    "object_columns = cereals_df.select_dtypes(include=['object']).columns\n",
    "\n",
    "object_summary = cereals_df[object_columns].describe()\n",
    "object_summary.T"
   ]
  },
  {
   "cell_type": "markdown",
   "metadata": {
    "id": "tNciKJBChIJ4"
   },
   "source": [
    "Genera algunos gráficos para familiarizarte con el conjunto de datos. Al menos deberás incluir los que te permitan responder los siguientes cuestionamientos:\n",
    "\n",
    "**Nota.** Debes responder de manera explícita las preguntas, apoyándote de los resultados observados de cada gráfico.\n",
    "\n",
    "2a) ¿Cuál es la frecuencia o conteo de cada categoría para las variables: `mfr` y `shelf` (por separado)?"
   ]
  },
  {
   "cell_type": "markdown",
   "metadata": {},
   "source": [
    "- Se define una función para imprimir los gráficos de barras y la frecuencia de cada categoría."
   ]
  },
  {
   "cell_type": "code",
   "execution_count": 21,
   "metadata": {
    "id": "WFDaMA9coYXh"
   },
   "outputs": [],
   "source": [
    "def plot_categorical(df, col_name):\n",
    "    \"\"\"\n",
    "    Obtener gráficos de barras para variables categóricas\n",
    "    \n",
    "    Args:\n",
    "        df (DataFrame)\n",
    "        col_name (str): Nombre de la columna\n",
    "        \n",
    "    Returns:\n",
    "        Gráfico de barras de la variable seleccionada\n",
    "    \"\"\"\n",
    "    res = df[col_name].value_counts().sort_values(ascending = False)\n",
    "    print(res.head(n = 10))\n",
    "    res.plot(kind='bar')"
   ]
  },
  {
   "cell_type": "markdown",
   "metadata": {},
   "source": [
    "- Gráfico de barras para la variable `shelf`:"
   ]
  },
  {
   "cell_type": "code",
   "execution_count": 22,
   "metadata": {},
   "outputs": [
    {
     "name": "stdout",
     "output_type": "stream",
     "text": [
      "shelf\n",
      "Shelf_Level_3    36\n",
      "Shelf_Level_2    21\n",
      "Shelf_Level_1    20\n",
      "Name: count, dtype: int64\n"
     ]
    },
    {
     "data": {
      "image/png": "[encoded data removed]",
      "text/plain": [
       "<Figure size 640x480 with 1 Axes>"
      ]
     },
     "metadata": {},
     "output_type": "display_data"
    }
   ],
   "source": [
    "plot_categorical(df=cereals_df, col_name='shelf')"
   ]
  },
  {
   "cell_type": "markdown",
   "metadata": {},
   "source": [
    "- Gráfico de barras para la variable `mfr`:"
   ]
  },
  {
   "cell_type": "code",
   "execution_count": 23,
   "metadata": {},
   "outputs": [
    {
     "name": "stdout",
     "output_type": "stream",
     "text": [
      "mfr\n",
      "K    23\n",
      "G    22\n",
      "P     9\n",
      "Q     8\n",
      "R     8\n",
      "N     6\n",
      "A     1\n",
      "Name: count, dtype: int64\n"
     ]
    },
    {
     "data": {
      "image/png": "[encoded data removed]",
      "text/plain": [
       "<Figure size 640x480 with 1 Axes>"
      ]
     },
     "metadata": {},
     "output_type": "display_data"
    }
   ],
   "source": [
    "plot_categorical(df=cereals_df, col_name='mfr')"
   ]
  },
  {
   "cell_type": "markdown",
   "metadata": {},
   "source": [
    "- Para la variable `shelf`, la categoría con mayor prescencia en el conjunto de datos es el estante 3 con 36 observaciones. Seguido del estante 2 con 21 observaciones y el estante 3 con 20 observaciones.\n",
    "- Respecto a la variable `mfr`, el grupo con mayor número de observaciones es el fabricante K (Kellogs) con 23 observaciones, seguido de G (General Mills) con 22. El resto de los grupos presentan un número menor de observaciones a comparación de los primeros. Esta es una variable mas imbalanceada que `shelf`."
   ]
  },
  {
   "cell_type": "markdown",
   "metadata": {
    "id": "BWsqaT90hajY"
   },
   "source": [
    "2b) Combina los resultados previos para observar, de cada fabricante, cuántos productos tiene en cada estante."
   ]
  },
  {
   "cell_type": "markdown",
   "metadata": {},
   "source": [
    "- Frecuencia de productos por fabricante en cada estante:"
   ]
  },
  {
   "cell_type": "code",
   "execution_count": 24,
   "metadata": {
    "id": "D8weqIO2oZKb"
   },
   "outputs": [
    {
     "data": {
      "text/html": [
       "<div>\n",
       "<style scoped>\n",
       "    .dataframe tbody tr th:only-of-type {\n",
       "        vertical-align: middle;\n",
       "    }\n",
       "\n",
       "    .dataframe tbody tr th {\n",
       "        vertical-align: top;\n",
       "    }\n",
       "\n",
       "    .dataframe thead th {\n",
       "        text-align: right;\n",
       "    }\n",
       "</style>\n",
       "<table border=\"1\" class=\"dataframe\">\n",
       "  <thead>\n",
       "    <tr style=\"text-align: right;\">\n",
       "      <th>mfr</th>\n",
       "      <th>A</th>\n",
       "      <th>G</th>\n",
       "      <th>K</th>\n",
       "      <th>N</th>\n",
       "      <th>P</th>\n",
       "      <th>Q</th>\n",
       "      <th>R</th>\n",
       "    </tr>\n",
       "    <tr>\n",
       "      <th>shelf</th>\n",
       "      <th></th>\n",
       "      <th></th>\n",
       "      <th></th>\n",
       "      <th></th>\n",
       "      <th></th>\n",
       "      <th></th>\n",
       "      <th></th>\n",
       "    </tr>\n",
       "  </thead>\n",
       "  <tbody>\n",
       "    <tr>\n",
       "      <th>Shelf_Level_1</th>\n",
       "      <td>NaN</td>\n",
       "      <td>6.0</td>\n",
       "      <td>4.0</td>\n",
       "      <td>3.0</td>\n",
       "      <td>2.0</td>\n",
       "      <td>1.0</td>\n",
       "      <td>4.0</td>\n",
       "    </tr>\n",
       "    <tr>\n",
       "      <th>Shelf_Level_2</th>\n",
       "      <td>1.0</td>\n",
       "      <td>7.0</td>\n",
       "      <td>7.0</td>\n",
       "      <td>2.0</td>\n",
       "      <td>1.0</td>\n",
       "      <td>3.0</td>\n",
       "      <td>NaN</td>\n",
       "    </tr>\n",
       "    <tr>\n",
       "      <th>Shelf_Level_3</th>\n",
       "      <td>NaN</td>\n",
       "      <td>9.0</td>\n",
       "      <td>12.0</td>\n",
       "      <td>1.0</td>\n",
       "      <td>6.0</td>\n",
       "      <td>4.0</td>\n",
       "      <td>4.0</td>\n",
       "    </tr>\n",
       "  </tbody>\n",
       "</table>\n",
       "</div>"
      ],
      "text/plain": [
       "mfr              A    G     K    N    P    Q    R\n",
       "shelf                                            \n",
       "Shelf_Level_1  NaN  6.0   4.0  3.0  2.0  1.0  4.0\n",
       "Shelf_Level_2  1.0  7.0   7.0  2.0  1.0  3.0  NaN\n",
       "Shelf_Level_3  NaN  9.0  12.0  1.0  6.0  4.0  4.0"
      ]
     },
     "execution_count": 24,
     "metadata": {},
     "output_type": "execute_result"
    }
   ],
   "source": [
    "shelf_by_mfr = cereals_df.groupby(['shelf','mfr']).size().unstack()\n",
    "shelf_by_mfr"
   ]
  },
  {
   "cell_type": "markdown",
   "metadata": {},
   "source": [
    "- Gráfico de barras generado a partir de dicha información:"
   ]
  },
  {
   "cell_type": "code",
   "execution_count": 25,
   "metadata": {},
   "outputs": [
    {
     "data": {
      "text/plain": [
       "<Axes: xlabel='shelf'>"
      ]
     },
     "execution_count": 25,
     "metadata": {},
     "output_type": "execute_result"
    },
    {
     "data": {
      "image/png": "[encoded data removed]",
      "text/plain": [
       "<Figure size 640x480 with 1 Axes>"
      ]
     },
     "metadata": {},
     "output_type": "display_data"
    }
   ],
   "source": [
    "shelf_by_mfr.plot(kind='bar',stacked=True)"
   ]
  },
  {
   "cell_type": "markdown",
   "metadata": {},
   "source": [
    "- En todos los estantes predominan los fabricantes Kellogs y General Mills en mayor porcentaje. Aparentemente el estante mejor diribuido es el estante uno. En la siguiente gráfica se logra observar dicho comportamiento a detalle:"
   ]
  },
  {
   "cell_type": "code",
   "execution_count": 26,
   "metadata": {},
   "outputs": [
    {
     "data": {
      "image/png": "[encoded data removed]",
      "text/plain": [
       "<Figure size 1000x700 with 1 Axes>"
      ]
     },
     "metadata": {},
     "output_type": "display_data"
    }
   ],
   "source": [
    "# Se utiliza el parámetro \"hue\" para obtener el gráfico de barras de shelf vs mfr\n",
    "\n",
    "plt.figure(figsize=(10,7)) # Tamaño de la figura\n",
    "sns.countplot(x=cereals_df['shelf'], hue='mfr', data=cereals_df) # Columna seleccionada\n",
    "plt.title(f'Barras de productos por fabricante en cada estante')\n",
    "plt.show() # Mostrar la gráfica final"
   ]
  },
  {
   "cell_type": "markdown",
   "metadata": {},
   "source": [
    "Por lo tanto:\n",
    "\n",
    "- American Home Food Products\n",
    "    - Estante 1: 0 productos\n",
    "    - Estante 2: 1 productos\n",
    "    - Estante 3: 0 productos\n",
    "- General Mills\n",
    "    - Estante 1: 6 productos\n",
    "    - Estante 2: 7 productos\n",
    "    - Estante 3: 9 productos\n",
    "- Kelloggs\n",
    "    - Estante 1: 4 productos\n",
    "    - Estante 2: 7 productos\n",
    "    - Estante 3: 12 productos\n",
    "- Nabisco\n",
    "    - Estante 1: 3 productos\n",
    "    - Estante 2: 2 productos\n",
    "    - Estante 3: 1 productos\n",
    "- Post\n",
    "    - Estante 1: 2 productos\n",
    "    - Estante 2: 1 productos\n",
    "    - Estante 3: 6 productos\n",
    "- Quaker Oats\n",
    "    - Estante 1: 1 productos\n",
    "    - Estante 2: 3 productos\n",
    "    - Estante 3: 4 productos\n",
    "- Ralston Purina\n",
    "    - Estante 1: 4 productos\n",
    "    - Estante 2: 0 productos\n",
    "    - Estante 3: 4 productos"
   ]
  },
  {
   "cell_type": "markdown",
   "metadata": {
    "id": "R1iWDKvMhgSF"
   },
   "source": [
    " 3a) ¿Cuál es el rango más frecuente de la variable `rating`?"
   ]
  },
  {
   "cell_type": "code",
   "execution_count": 27,
   "metadata": {
    "id": "0h1U52UWoaSQ"
   },
   "outputs": [
    {
     "data": {
      "text/plain": [
       "<Axes: title={'center': 'Histograma de ratings'}, ylabel='Frequency'>"
      ]
     },
     "execution_count": 27,
     "metadata": {},
     "output_type": "execute_result"
    },
    {
     "data": {
      "image/png": "[encoded data removed]",
      "text/plain": [
       "<Figure size 640x480 with 1 Axes>"
      ]
     },
     "metadata": {},
     "output_type": "display_data"
    }
   ],
   "source": [
    "cereals_df['rating'].plot(kind='hist',bins=20,\n",
    "                          title='Histograma de ratings')"
   ]
  },
  {
   "cell_type": "markdown",
   "metadata": {},
   "source": [
    "- El rango con más frecuencia de la variable rating se encuentra de 35 a 40."
   ]
  },
  {
   "cell_type": "code",
   "execution_count": 28,
   "metadata": {},
   "outputs": [
    {
     "name": "stdout",
     "output_type": "stream",
     "text": [
      "El rango más frecuente de la variable \"rating\" es: (30, 40]\n",
      "Con una frecuencia de: 24\n"
     ]
    }
   ],
   "source": [
    "# Se puede respaldar la afirmación anteriormente presentada mediante un cálculo numérico:\n",
    "\n",
    "# Separación de bins\n",
    "bins = [0, 10, 20, 30, 40, 50] \n",
    "\n",
    "# Crear intervalos para la variable \"rating\" de acuerdo con los bins\n",
    "intervals = pd.cut(cereals_df['rating'], bins)\n",
    "\n",
    "# Contar la frecuencia de cada intervalo\n",
    "interval_counts = intervals.value_counts()\n",
    "\n",
    "# Buscar el rango con mayor frecuencia\n",
    "most_frequent_interval = interval_counts.idxmax()\n",
    "\n",
    "print(f'El rango más frecuente de la variable \"rating\" es: {most_frequent_interval}')\n",
    "print(f'Con una frecuencia de: {interval_counts[most_frequent_interval]}')"
   ]
  },
  {
   "cell_type": "markdown",
   "metadata": {
    "id": "dRw4LtNchnLD"
   },
   "source": [
    "3b) ¿Cuáles son los 10 cereales mejor evaluados y a qué fabricante corresponden?"
   ]
  },
  {
   "cell_type": "code",
   "execution_count": 29,
   "metadata": {
    "id": "FtNUjewoobG_"
   },
   "outputs": [
    {
     "data": {
      "text/html": [
       "<div>\n",
       "<style scoped>\n",
       "    .dataframe tbody tr th:only-of-type {\n",
       "        vertical-align: middle;\n",
       "    }\n",
       "\n",
       "    .dataframe tbody tr th {\n",
       "        vertical-align: top;\n",
       "    }\n",
       "\n",
       "    .dataframe thead th {\n",
       "        text-align: right;\n",
       "    }\n",
       "</style>\n",
       "<table border=\"1\" class=\"dataframe\">\n",
       "  <thead>\n",
       "    <tr style=\"text-align: right;\">\n",
       "      <th></th>\n",
       "      <th>name</th>\n",
       "      <th>mfr</th>\n",
       "      <th>rating</th>\n",
       "    </tr>\n",
       "  </thead>\n",
       "  <tbody>\n",
       "    <tr>\n",
       "      <th>0</th>\n",
       "      <td>All-Bran_with_Extra_Fiber</td>\n",
       "      <td>K</td>\n",
       "      <td>93.704912</td>\n",
       "    </tr>\n",
       "    <tr>\n",
       "      <th>1</th>\n",
       "      <td>Shredded_Wheat_'n'Bran</td>\n",
       "      <td>N</td>\n",
       "      <td>74.472949</td>\n",
       "    </tr>\n",
       "    <tr>\n",
       "      <th>2</th>\n",
       "      <td>Shredded_Wheat_spoon_size</td>\n",
       "      <td>N</td>\n",
       "      <td>72.801787</td>\n",
       "    </tr>\n",
       "    <tr>\n",
       "      <th>3</th>\n",
       "      <td>100%_Bran</td>\n",
       "      <td>N</td>\n",
       "      <td>68.402973</td>\n",
       "    </tr>\n",
       "    <tr>\n",
       "      <th>4</th>\n",
       "      <td>Shredded_Wheat</td>\n",
       "      <td>N</td>\n",
       "      <td>68.235885</td>\n",
       "    </tr>\n",
       "    <tr>\n",
       "      <th>5</th>\n",
       "      <td>Cream_of_Wheat_(Quick)</td>\n",
       "      <td>N</td>\n",
       "      <td>64.533816</td>\n",
       "    </tr>\n",
       "    <tr>\n",
       "      <th>6</th>\n",
       "      <td>Puffed_Wheat</td>\n",
       "      <td>Q</td>\n",
       "      <td>63.005645</td>\n",
       "    </tr>\n",
       "    <tr>\n",
       "      <th>7</th>\n",
       "      <td>Puffed_Rice</td>\n",
       "      <td>Q</td>\n",
       "      <td>60.756112</td>\n",
       "    </tr>\n",
       "    <tr>\n",
       "      <th>8</th>\n",
       "      <td>Nutri-grain_Wheat</td>\n",
       "      <td>K</td>\n",
       "      <td>59.642837</td>\n",
       "    </tr>\n",
       "    <tr>\n",
       "      <th>9</th>\n",
       "      <td>All-Bran</td>\n",
       "      <td>K</td>\n",
       "      <td>59.425505</td>\n",
       "    </tr>\n",
       "  </tbody>\n",
       "</table>\n",
       "</div>"
      ],
      "text/plain": [
       "                        name mfr     rating\n",
       "0  All-Bran_with_Extra_Fiber   K  93.704912\n",
       "1     Shredded_Wheat_'n'Bran   N  74.472949\n",
       "2  Shredded_Wheat_spoon_size   N  72.801787\n",
       "3                  100%_Bran   N  68.402973\n",
       "4             Shredded_Wheat   N  68.235885\n",
       "5     Cream_of_Wheat_(Quick)   N  64.533816\n",
       "6               Puffed_Wheat   Q  63.005645\n",
       "7                Puffed_Rice   Q  60.756112\n",
       "8          Nutri-grain_Wheat   K  59.642837\n",
       "9                   All-Bran   K  59.425505"
      ]
     },
     "execution_count": 29,
     "metadata": {},
     "output_type": "execute_result"
    }
   ],
   "source": [
    "best_rating = cereals_df.sort_values(by='rating',ascending=False)[['name','mfr','rating']].head(n=10)\n",
    "\n",
    "# Se reinicia el index a la serie resultante\n",
    "best_rating.reset_index(drop=True, inplace=True)\n",
    "best_rating"
   ]
  },
  {
   "cell_type": "markdown",
   "metadata": {},
   "source": [
    "- El cereal mejor evaluado es \"All-Bran con Fibra Extra\" de Kelloggs con un rating de 93.7, seguido de \"Shredded Wheat & Bran\" de Nabisco."
   ]
  },
  {
   "cell_type": "markdown",
   "metadata": {},
   "source": [
    "En resumen:\n",
    "1. \"All-Bran with Extra Fiber\" de Kelloggs\n",
    "2. \"Shredded Wheat'n'Bran\" de Nabisco\n",
    "3. \"Shredded Wheat spoon size\" de Nabisco\n",
    "4. \"100% Bran\" de Nabisco\n",
    "5. \"Shredded Wheat\" de Nabisco\n",
    "6. \"Cream of Wheat (Quick)\" de Nabisco\n",
    "7. \"Puffed Wheat\" de Quaker Oats\n",
    "8. \"Puffed Rice\" de Quaker Oats\n",
    "9. \"Nutri-grain Wheat\" de Kelloggs\n",
    "10. \"All-Bran\" de Kelloggs"
   ]
  },
  {
   "cell_type": "markdown",
   "metadata": {
    "id": "A2wbLHYnhtsp"
   },
   "source": [
    "4a) Compara la distribución de las calorías según el fabricante, por medio de boxplots."
   ]
  },
  {
   "cell_type": "code",
   "execution_count": 30,
   "metadata": {
    "id": "MvzEDeMUob8s"
   },
   "outputs": [
    {
     "data": {
      "image/png": "[encoded data removed]",
      "text/plain": [
       "<Figure size 1000x700 with 1 Axes>"
      ]
     },
     "metadata": {},
     "output_type": "display_data"
    }
   ],
   "source": [
    "plt.figure(figsize=(10,7)) # Tamaño de la figura\n",
    "sns.boxplot(x = 'mfr', y = 'calories', data = cereals_df, showmeans=True) # Columna seleccionada\n",
    "plt.title('Boxplot de la distribución de Calorías según el Fabricante')\n",
    "plt.xlabel('mfr') # Eje \"x\"\n",
    "plt.ylabel('calories') # Eje \"y\"\n",
    "plt.show() # Mostrar la gráfica final"
   ]
  },
  {
   "cell_type": "markdown",
   "metadata": {},
   "source": [
    "- Los fabricantes con una mediana de calorías más baja son Nabisco seguido de Quaker Oats y American Home Food Products. El resto de marcas parece que comparten un valor de la mediana similar."
   ]
  },
  {
   "cell_type": "markdown",
   "metadata": {},
   "source": [
    "- Para el fabricante \"A\", se observa que su valor máximo y mínimo podrían ser iguales. Al igual que: Q1 = Q2 = Q3 = media; lo que podría indicar una desviación estándar de 0, es decir, los datos tienen poca/nula variabilidad y dispersión. Se podría indicar lo mismo para el fabricante \"G\", sin embargo, se observa que el promedio no se encuentra totalmente entre la línea, por lo que estos datos sí tienen una desviación estándar. Además, los valores máximos y mínimos se toman como valores atípicos con respecto a la mediana de 110."
   ]
  },
  {
   "cell_type": "markdown",
   "metadata": {},
   "source": [
    "- Para el fabricante \"K\" se confirma la afirmación anteriormente dicha, debido a que su mediana es de 110, al igual que los fabricantes \"P\", \"Q\" y \"R\", respectivamente. Sin embargo, el fabricante \"K\" posee los valores atípicos más dispersos, obteniendo un valor máximo de 160 y un valor mínimo de 50. "
   ]
  },
  {
   "cell_type": "markdown",
   "metadata": {},
   "source": [
    "- El valor máximo para el fabricante \"P\" se encuentra dentro del Q3, al igual que para el fabricante \"Q\". Sin embargo, el fabricante \"P\" mantiene un valor mínimo de 90, mientras que para el fabricante \"Q\" el valor mínimo es 50."
   ]
  },
  {
   "cell_type": "code",
   "execution_count": 31,
   "metadata": {},
   "outputs": [
    {
     "data": {
      "text/html": [
       "<div>\n",
       "<style scoped>\n",
       "    .dataframe tbody tr th:only-of-type {\n",
       "        vertical-align: middle;\n",
       "    }\n",
       "\n",
       "    .dataframe tbody tr th {\n",
       "        vertical-align: top;\n",
       "    }\n",
       "\n",
       "    .dataframe thead th {\n",
       "        text-align: right;\n",
       "    }\n",
       "</style>\n",
       "<table border=\"1\" class=\"dataframe\">\n",
       "  <thead>\n",
       "    <tr style=\"text-align: right;\">\n",
       "      <th></th>\n",
       "      <th>count</th>\n",
       "      <th>mean</th>\n",
       "      <th>std</th>\n",
       "      <th>min</th>\n",
       "      <th>25%</th>\n",
       "      <th>50%</th>\n",
       "      <th>75%</th>\n",
       "      <th>max</th>\n",
       "    </tr>\n",
       "    <tr>\n",
       "      <th>mfr</th>\n",
       "      <th></th>\n",
       "      <th></th>\n",
       "      <th></th>\n",
       "      <th></th>\n",
       "      <th></th>\n",
       "      <th></th>\n",
       "      <th></th>\n",
       "      <th></th>\n",
       "    </tr>\n",
       "  </thead>\n",
       "  <tbody>\n",
       "    <tr>\n",
       "      <th>A</th>\n",
       "      <td>1.0</td>\n",
       "      <td>100.000000</td>\n",
       "      <td>NaN</td>\n",
       "      <td>100.0</td>\n",
       "      <td>100.0</td>\n",
       "      <td>100.0</td>\n",
       "      <td>100.0</td>\n",
       "      <td>100.0</td>\n",
       "    </tr>\n",
       "    <tr>\n",
       "      <th>G</th>\n",
       "      <td>22.0</td>\n",
       "      <td>111.363636</td>\n",
       "      <td>10.371873</td>\n",
       "      <td>100.0</td>\n",
       "      <td>110.0</td>\n",
       "      <td>110.0</td>\n",
       "      <td>110.0</td>\n",
       "      <td>140.0</td>\n",
       "    </tr>\n",
       "    <tr>\n",
       "      <th>K</th>\n",
       "      <td>23.0</td>\n",
       "      <td>108.695652</td>\n",
       "      <td>22.218818</td>\n",
       "      <td>50.0</td>\n",
       "      <td>100.0</td>\n",
       "      <td>110.0</td>\n",
       "      <td>115.0</td>\n",
       "      <td>160.0</td>\n",
       "    </tr>\n",
       "    <tr>\n",
       "      <th>N</th>\n",
       "      <td>6.0</td>\n",
       "      <td>86.666667</td>\n",
       "      <td>10.327956</td>\n",
       "      <td>70.0</td>\n",
       "      <td>82.5</td>\n",
       "      <td>90.0</td>\n",
       "      <td>90.0</td>\n",
       "      <td>100.0</td>\n",
       "    </tr>\n",
       "    <tr>\n",
       "      <th>P</th>\n",
       "      <td>9.0</td>\n",
       "      <td>108.888889</td>\n",
       "      <td>10.540926</td>\n",
       "      <td>90.0</td>\n",
       "      <td>100.0</td>\n",
       "      <td>110.0</td>\n",
       "      <td>120.0</td>\n",
       "      <td>120.0</td>\n",
       "    </tr>\n",
       "    <tr>\n",
       "      <th>Q</th>\n",
       "      <td>8.0</td>\n",
       "      <td>95.000000</td>\n",
       "      <td>29.277002</td>\n",
       "      <td>50.0</td>\n",
       "      <td>87.5</td>\n",
       "      <td>100.0</td>\n",
       "      <td>120.0</td>\n",
       "      <td>120.0</td>\n",
       "    </tr>\n",
       "    <tr>\n",
       "      <th>R</th>\n",
       "      <td>8.0</td>\n",
       "      <td>115.000000</td>\n",
       "      <td>22.677868</td>\n",
       "      <td>90.0</td>\n",
       "      <td>100.0</td>\n",
       "      <td>110.0</td>\n",
       "      <td>120.0</td>\n",
       "      <td>150.0</td>\n",
       "    </tr>\n",
       "  </tbody>\n",
       "</table>\n",
       "</div>"
      ],
      "text/plain": [
       "     count        mean        std    min    25%    50%    75%    max\n",
       "mfr                                                                 \n",
       "A      1.0  100.000000        NaN  100.0  100.0  100.0  100.0  100.0\n",
       "G     22.0  111.363636  10.371873  100.0  110.0  110.0  110.0  140.0\n",
       "K     23.0  108.695652  22.218818   50.0  100.0  110.0  115.0  160.0\n",
       "N      6.0   86.666667  10.327956   70.0   82.5   90.0   90.0  100.0\n",
       "P      9.0  108.888889  10.540926   90.0  100.0  110.0  120.0  120.0\n",
       "Q      8.0   95.000000  29.277002   50.0   87.5  100.0  120.0  120.0\n",
       "R      8.0  115.000000  22.677868   90.0  100.0  110.0  120.0  150.0"
      ]
     },
     "execution_count": 31,
     "metadata": {},
     "output_type": "execute_result"
    }
   ],
   "source": [
    "# Se puede respaldar la afirmación anteriormente presentada mediante un cálculo numérico:\n",
    "\n",
    "# Se obtiene un \"describe\" de las calorías agrupadas por fabricante.\n",
    "\n",
    "manufacturer_stats = cereals_df.groupby('mfr')['calories'].describe()\n",
    "manufacturer_stats"
   ]
  },
  {
   "cell_type": "markdown",
   "metadata": {
    "id": "NywjiWzIhy9X"
   },
   "source": [
    "4b) ¿Cuáles son las dos variables que tienen mayor correlación con `rating`?"
   ]
  },
  {
   "cell_type": "markdown",
   "metadata": {},
   "source": [
    "- Matriz de correlación entre las variables numéricas:"
   ]
  },
  {
   "cell_type": "code",
   "execution_count": 33,
   "metadata": {},
   "outputs": [
    {
     "ename": "ValueError",
     "evalue": "could not convert string to float: '100%_Bran'",
     "output_type": "error",
     "traceback": [
      "\u001b[1;31m---------------------------------------------------------------------------\u001b[0m",
      "\u001b[1;31mValueError\u001b[0m                                Traceback (most recent call last)",
      "\u001b[1;32md:\\Documents\\Maestria\\Ciencia y analitica de datos\\TC4029-ciencia-y-analitica-de-datos-equipo83\\notebooks\\Actividad7PCA_Equipo83.ipynb Cell 46\u001b[0m line \u001b[0;36m1\n\u001b[1;32m----> <a href='vscode-notebook-cell:/d%3A/Documents/Maestria/Ciencia%20y%20analitica%20de%20datos/TC4029-ciencia-y-analitica-de-datos-equipo83/notebooks/Actividad7PCA_Equipo83.ipynb#X63sZmlsZQ%3D%3D?line=0'>1</a>\u001b[0m correlation_matrix \u001b[39m=\u001b[39m \u001b[39mround\u001b[39m(cereals_df\u001b[39m.\u001b[39mcorr(), \u001b[39m2\u001b[39m)\n\u001b[0;32m      <a href='vscode-notebook-cell:/d%3A/Documents/Maestria/Ciencia%20y%20analitica%20de%20datos/TC4029-ciencia-y-analitica-de-datos-equipo83/notebooks/Actividad7PCA_Equipo83.ipynb#X63sZmlsZQ%3D%3D?line=1'>2</a>\u001b[0m correlation_matrix\n",
      "File \u001b[1;32mc:\\ProgramData\\anaconda3\\Lib\\site-packages\\pandas\\core\\frame.py:10054\u001b[0m, in \u001b[0;36mDataFrame.corr\u001b[1;34m(self, method, min_periods, numeric_only)\u001b[0m\n\u001b[0;32m  10052\u001b[0m cols \u001b[39m=\u001b[39m data\u001b[39m.\u001b[39mcolumns\n\u001b[0;32m  10053\u001b[0m idx \u001b[39m=\u001b[39m cols\u001b[39m.\u001b[39mcopy()\n\u001b[1;32m> 10054\u001b[0m mat \u001b[39m=\u001b[39m data\u001b[39m.\u001b[39mto_numpy(dtype\u001b[39m=\u001b[39m\u001b[39mfloat\u001b[39m, na_value\u001b[39m=\u001b[39mnp\u001b[39m.\u001b[39mnan, copy\u001b[39m=\u001b[39m\u001b[39mFalse\u001b[39;00m)\n\u001b[0;32m  10056\u001b[0m \u001b[39mif\u001b[39;00m method \u001b[39m==\u001b[39m \u001b[39m\"\u001b[39m\u001b[39mpearson\u001b[39m\u001b[39m\"\u001b[39m:\n\u001b[0;32m  10057\u001b[0m     correl \u001b[39m=\u001b[39m libalgos\u001b[39m.\u001b[39mnancorr(mat, minp\u001b[39m=\u001b[39mmin_periods)\n",
      "File \u001b[1;32mc:\\ProgramData\\anaconda3\\Lib\\site-packages\\pandas\\core\\frame.py:1838\u001b[0m, in \u001b[0;36mDataFrame.to_numpy\u001b[1;34m(self, dtype, copy, na_value)\u001b[0m\n\u001b[0;32m   1836\u001b[0m \u001b[39mif\u001b[39;00m dtype \u001b[39mis\u001b[39;00m \u001b[39mnot\u001b[39;00m \u001b[39mNone\u001b[39;00m:\n\u001b[0;32m   1837\u001b[0m     dtype \u001b[39m=\u001b[39m np\u001b[39m.\u001b[39mdtype(dtype)\n\u001b[1;32m-> 1838\u001b[0m result \u001b[39m=\u001b[39m \u001b[39mself\u001b[39m\u001b[39m.\u001b[39m_mgr\u001b[39m.\u001b[39mas_array(dtype\u001b[39m=\u001b[39mdtype, copy\u001b[39m=\u001b[39mcopy, na_value\u001b[39m=\u001b[39mna_value)\n\u001b[0;32m   1839\u001b[0m \u001b[39mif\u001b[39;00m result\u001b[39m.\u001b[39mdtype \u001b[39mis\u001b[39;00m \u001b[39mnot\u001b[39;00m dtype:\n\u001b[0;32m   1840\u001b[0m     result \u001b[39m=\u001b[39m np\u001b[39m.\u001b[39marray(result, dtype\u001b[39m=\u001b[39mdtype, copy\u001b[39m=\u001b[39m\u001b[39mFalse\u001b[39;00m)\n",
      "File \u001b[1;32mc:\\ProgramData\\anaconda3\\Lib\\site-packages\\pandas\\core\\internals\\managers.py:1732\u001b[0m, in \u001b[0;36mBlockManager.as_array\u001b[1;34m(self, dtype, copy, na_value)\u001b[0m\n\u001b[0;32m   1730\u001b[0m         arr\u001b[39m.\u001b[39mflags\u001b[39m.\u001b[39mwriteable \u001b[39m=\u001b[39m \u001b[39mFalse\u001b[39;00m\n\u001b[0;32m   1731\u001b[0m \u001b[39melse\u001b[39;00m:\n\u001b[1;32m-> 1732\u001b[0m     arr \u001b[39m=\u001b[39m \u001b[39mself\u001b[39m\u001b[39m.\u001b[39m_interleave(dtype\u001b[39m=\u001b[39mdtype, na_value\u001b[39m=\u001b[39mna_value)\n\u001b[0;32m   1733\u001b[0m     \u001b[39m# The underlying data was copied within _interleave, so no need\u001b[39;00m\n\u001b[0;32m   1734\u001b[0m     \u001b[39m# to further copy if copy=True or setting na_value\u001b[39;00m\n\u001b[0;32m   1736\u001b[0m \u001b[39mif\u001b[39;00m na_value \u001b[39mis\u001b[39;00m \u001b[39mnot\u001b[39;00m lib\u001b[39m.\u001b[39mno_default:\n",
      "File \u001b[1;32mc:\\ProgramData\\anaconda3\\Lib\\site-packages\\pandas\\core\\internals\\managers.py:1794\u001b[0m, in \u001b[0;36mBlockManager._interleave\u001b[1;34m(self, dtype, na_value)\u001b[0m\n\u001b[0;32m   1792\u001b[0m     \u001b[39melse\u001b[39;00m:\n\u001b[0;32m   1793\u001b[0m         arr \u001b[39m=\u001b[39m blk\u001b[39m.\u001b[39mget_values(dtype)\n\u001b[1;32m-> 1794\u001b[0m     result[rl\u001b[39m.\u001b[39mindexer] \u001b[39m=\u001b[39m arr\n\u001b[0;32m   1795\u001b[0m     itemmask[rl\u001b[39m.\u001b[39mindexer] \u001b[39m=\u001b[39m \u001b[39m1\u001b[39m\n\u001b[0;32m   1797\u001b[0m \u001b[39mif\u001b[39;00m \u001b[39mnot\u001b[39;00m itemmask\u001b[39m.\u001b[39mall():\n",
      "\u001b[1;31mValueError\u001b[0m: could not convert string to float: '100%_Bran'"
     ]
    }
   ],
   "source": [
    "correlation_matrix = round(cereals_df.corr(), 2)\n",
    "correlation_matrix"
   ]
  },
  {
   "cell_type": "markdown",
   "metadata": {},
   "source": [
    "- Mapa de calor de las variables numéricas:"
   ]
  },
  {
   "cell_type": "code",
   "execution_count": null,
   "metadata": {
    "id": "8f5avPbYoc3r"
   },
   "outputs": [
    {
     "data": {
      "image/png": "[encoded data removed]",
      "text/plain": [
       "<Figure size 1080x720 with 2 Axes>"
      ]
     },
     "metadata": {
      "needs_background": "light"
     },
     "output_type": "display_data"
    }
   ],
   "source": [
    "plt.figure(figsize=(15,10))\n",
    "sns.heatmap(correlation_matrix, vmin=-1, vmax=1, annot=True, linewidths=0.5, cmap='BrBG')\n",
    "plt.title('Mapa de calor de la correlación entre las variables numéricas')\n",
    "plt.show()"
   ]
  },
  {
   "cell_type": "markdown",
   "metadata": {},
   "source": [
    "- Las (5) variables que tienen mayor correlación con rating son:\n",
    "  - Sugars: -0.76\n",
    "  - Calories: -0.69\n",
    "  - Fiber: 0.58\n",
    "  - Protein: 0.47\n",
    "  - Potass: 0.42"
   ]
  },
  {
   "cell_type": "code",
   "execution_count": null,
   "metadata": {},
   "outputs": [
    {
     "name": "stdout",
     "output_type": "stream",
     "text": [
      "Variables ordenadas por mayor correlación con respecto a \"rating\":\n",
      "Variable: sugars, Correlación: 0.76\n",
      "Variable: calories, Correlación: 0.69\n",
      "Variable: fiber, Correlación: 0.58\n",
      "Variable: protein, Correlación: 0.47\n",
      "Variable: potass, Correlación: 0.42\n",
      "Variable: fat, Correlación: 0.41\n",
      "Variable: sodium, Correlación: 0.4\n",
      "Variable: weight, Correlación: 0.3\n",
      "Variable: vitamins, Correlación: 0.24\n",
      "Variable: cups, Correlación: 0.2\n",
      "Variable: carbo, Correlación: 0.09\n"
     ]
    }
   ],
   "source": [
    "# Se puede confirmar la conclusión anterior mediante un cálculo numérico:\n",
    "\n",
    "# Se elimina la columna \"rating\" de la matriz de correlación\n",
    "rating_correlations = correlation_matrix['rating'].drop('rating')\n",
    "\n",
    "# Con 'abs' se toma el valor absoluto, mientras que 'nlargest' retorna las \n",
    "# variables con valores máximos en orden descendente\n",
    "most_correlated_column = rating_correlations.abs().nlargest(11)\n",
    "\n",
    "# Imprimir: nombre de la variable y correlación (cantidad)\n",
    "print('Variables ordenadas por mayor correlación con respecto a \"rating\":')\n",
    "for column, correlation in most_correlated_column.items():\n",
    "    print(f'Variable: {column}, Correlación: {correlation}')"
   ]
  },
  {
   "cell_type": "markdown",
   "metadata": {
    "id": "itJ9anNUiTE5"
   },
   "source": [
    "5. Elimina todos los registros con algún dato faltante y reinicia el índice del dataframe para que quede con valores consecutivos."
   ]
  },
  {
   "cell_type": "code",
   "execution_count": 34,
   "metadata": {
    "id": "_V__MFtiod9w"
   },
   "outputs": [],
   "source": [
    "# ************************** PARTE 0: Porcentaje de Valores Faltantes ****************************\n",
    "\n",
    "# Opcional: Se creará una función para obtener automáticamente el porcentaje de valores faltantes\n",
    "# por cada variable del DataFrame.\n",
    "\n",
    "def find_missing_values_per_column(df):\n",
    "    \"\"\"\n",
    "    Obtener el porcentaje de valores faltantes por columna e imprimirlo en una tabla\n",
    "\n",
    "    Args:\n",
    "        df (DataFrame)\n",
    "\n",
    "    Returns:\n",
    "        df_missing (tabla impresa con los porcentajes de valores faltantes por columna)\n",
    "    \"\"\"\n",
    "    missing_percentage = df.isna().sum() * 100 / len(df)\n",
    "\n",
    "    # Guardar en un DataFrame para su impresión en una tabla\n",
    "\n",
    "    df_missing = pd.DataFrame({\n",
    "        'Columna': df.columns,\n",
    "        'Porcentaje Faltantes': missing_percentage.astype(str) + '%'\n",
    "        # Imprime el valor con el símbolo \"%\"\n",
    "    })\n",
    "\n",
    "    # Imprimir una tabla con los datos\n",
    "    print(tabulate(df_missing, headers='keys', tablefmt='psql', showindex=False))"
   ]
  },
  {
   "cell_type": "code",
   "execution_count": 35,
   "metadata": {
    "id": "8ZIBq2PsB7ST",
    "outputId": "a906e694-68d9-4831-ecfc-e7f5d436fc42",
    "scrolled": false
   },
   "outputs": [
    {
     "name": "stdout",
     "output_type": "stream",
     "text": [
      "+-----------+------------------------+\n",
      "| Columna   | Porcentaje Faltantes   |\n",
      "|-----------+------------------------|\n",
      "| name      | 0.0%                   |\n",
      "| mfr       | 0.0%                   |\n",
      "| type      | 0.0%                   |\n",
      "| calories  | 0.0%                   |\n",
      "| protein   | 0.0%                   |\n",
      "| fat       | 0.0%                   |\n",
      "| sodium    | 0.0%                   |\n",
      "| fiber     | 0.0%                   |\n",
      "| carbo     | 1.2987012987012987%    |\n",
      "| sugars    | 1.2987012987012987%    |\n",
      "| potass    | 2.5974025974025974%    |\n",
      "| vitamins  | 0.0%                   |\n",
      "| shelf     | 0.0%                   |\n",
      "| weight    | 0.0%                   |\n",
      "| cups      | 0.0%                   |\n",
      "| rating    | 0.0%                   |\n",
      "+-----------+------------------------+\n"
     ]
    }
   ],
   "source": [
    "# Se imprime la tabla de valores faltantes.\n",
    "\n",
    "missing_values = find_missing_values_per_column(df=cereals_df)"
   ]
  },
  {
   "cell_type": "code",
   "execution_count": null,
   "metadata": {
    "id": "_UV-u3ISB7ST",
    "outputId": "541eee2a-6ece-4219-ba1f-d244a1315705"
   },
   "outputs": [
    {
     "data": {
      "text/html": [
       "<div>\n",
       "<style scoped>\n",
       "    .dataframe tbody tr th:only-of-type {\n",
       "        vertical-align: middle;\n",
       "    }\n",
       "\n",
       "    .dataframe tbody tr th {\n",
       "        vertical-align: top;\n",
       "    }\n",
       "\n",
       "    .dataframe thead th {\n",
       "        text-align: right;\n",
       "    }\n",
       "</style>\n",
       "<table border=\"1\" class=\"dataframe\">\n",
       "  <thead>\n",
       "    <tr style=\"text-align: right;\">\n",
       "      <th></th>\n",
       "      <th>name</th>\n",
       "      <th>mfr</th>\n",
       "      <th>type</th>\n",
       "      <th>calories</th>\n",
       "      <th>protein</th>\n",
       "      <th>fat</th>\n",
       "      <th>sodium</th>\n",
       "      <th>fiber</th>\n",
       "      <th>carbo</th>\n",
       "      <th>sugars</th>\n",
       "      <th>potass</th>\n",
       "      <th>vitamins</th>\n",
       "      <th>shelf</th>\n",
       "      <th>weight</th>\n",
       "      <th>cups</th>\n",
       "      <th>rating</th>\n",
       "    </tr>\n",
       "  </thead>\n",
       "  <tbody>\n",
       "    <tr>\n",
       "      <th>0</th>\n",
       "      <td>100%_Bran</td>\n",
       "      <td>N</td>\n",
       "      <td>C</td>\n",
       "      <td>70</td>\n",
       "      <td>4</td>\n",
       "      <td>1</td>\n",
       "      <td>130</td>\n",
       "      <td>10.0</td>\n",
       "      <td>5.0</td>\n",
       "      <td>6.0</td>\n",
       "      <td>280.0</td>\n",
       "      <td>25</td>\n",
       "      <td>Shelf_Level_3</td>\n",
       "      <td>1.0</td>\n",
       "      <td>0.33</td>\n",
       "      <td>68.402973</td>\n",
       "    </tr>\n",
       "    <tr>\n",
       "      <th>1</th>\n",
       "      <td>100%_Natural_Bran</td>\n",
       "      <td>Q</td>\n",
       "      <td>C</td>\n",
       "      <td>120</td>\n",
       "      <td>3</td>\n",
       "      <td>5</td>\n",
       "      <td>15</td>\n",
       "      <td>2.0</td>\n",
       "      <td>8.0</td>\n",
       "      <td>8.0</td>\n",
       "      <td>135.0</td>\n",
       "      <td>0</td>\n",
       "      <td>Shelf_Level_3</td>\n",
       "      <td>1.0</td>\n",
       "      <td>1.00</td>\n",
       "      <td>33.983679</td>\n",
       "    </tr>\n",
       "    <tr>\n",
       "      <th>2</th>\n",
       "      <td>All-Bran</td>\n",
       "      <td>K</td>\n",
       "      <td>C</td>\n",
       "      <td>70</td>\n",
       "      <td>4</td>\n",
       "      <td>1</td>\n",
       "      <td>260</td>\n",
       "      <td>9.0</td>\n",
       "      <td>7.0</td>\n",
       "      <td>5.0</td>\n",
       "      <td>320.0</td>\n",
       "      <td>25</td>\n",
       "      <td>Shelf_Level_3</td>\n",
       "      <td>1.0</td>\n",
       "      <td>0.33</td>\n",
       "      <td>59.425505</td>\n",
       "    </tr>\n",
       "    <tr>\n",
       "      <th>3</th>\n",
       "      <td>All-Bran_with_Extra_Fiber</td>\n",
       "      <td>K</td>\n",
       "      <td>C</td>\n",
       "      <td>50</td>\n",
       "      <td>4</td>\n",
       "      <td>0</td>\n",
       "      <td>140</td>\n",
       "      <td>14.0</td>\n",
       "      <td>8.0</td>\n",
       "      <td>0.0</td>\n",
       "      <td>330.0</td>\n",
       "      <td>25</td>\n",
       "      <td>Shelf_Level_3</td>\n",
       "      <td>1.0</td>\n",
       "      <td>0.50</td>\n",
       "      <td>93.704912</td>\n",
       "    </tr>\n",
       "    <tr>\n",
       "      <th>5</th>\n",
       "      <td>Apple_Cinnamon_Cheerios</td>\n",
       "      <td>G</td>\n",
       "      <td>C</td>\n",
       "      <td>110</td>\n",
       "      <td>2</td>\n",
       "      <td>2</td>\n",
       "      <td>180</td>\n",
       "      <td>1.5</td>\n",
       "      <td>10.5</td>\n",
       "      <td>10.0</td>\n",
       "      <td>70.0</td>\n",
       "      <td>25</td>\n",
       "      <td>Shelf_Level_1</td>\n",
       "      <td>1.0</td>\n",
       "      <td>0.75</td>\n",
       "      <td>29.509541</td>\n",
       "    </tr>\n",
       "    <tr>\n",
       "      <th>...</th>\n",
       "      <td>...</td>\n",
       "      <td>...</td>\n",
       "      <td>...</td>\n",
       "      <td>...</td>\n",
       "      <td>...</td>\n",
       "      <td>...</td>\n",
       "      <td>...</td>\n",
       "      <td>...</td>\n",
       "      <td>...</td>\n",
       "      <td>...</td>\n",
       "      <td>...</td>\n",
       "      <td>...</td>\n",
       "      <td>...</td>\n",
       "      <td>...</td>\n",
       "      <td>...</td>\n",
       "      <td>...</td>\n",
       "    </tr>\n",
       "    <tr>\n",
       "      <th>72</th>\n",
       "      <td>Triples</td>\n",
       "      <td>G</td>\n",
       "      <td>C</td>\n",
       "      <td>110</td>\n",
       "      <td>2</td>\n",
       "      <td>1</td>\n",
       "      <td>250</td>\n",
       "      <td>0.0</td>\n",
       "      <td>21.0</td>\n",
       "      <td>3.0</td>\n",
       "      <td>60.0</td>\n",
       "      <td>25</td>\n",
       "      <td>Shelf_Level_3</td>\n",
       "      <td>1.0</td>\n",
       "      <td>0.75</td>\n",
       "      <td>39.106174</td>\n",
       "    </tr>\n",
       "    <tr>\n",
       "      <th>73</th>\n",
       "      <td>Trix</td>\n",
       "      <td>G</td>\n",
       "      <td>C</td>\n",
       "      <td>110</td>\n",
       "      <td>1</td>\n",
       "      <td>1</td>\n",
       "      <td>140</td>\n",
       "      <td>0.0</td>\n",
       "      <td>13.0</td>\n",
       "      <td>12.0</td>\n",
       "      <td>25.0</td>\n",
       "      <td>25</td>\n",
       "      <td>Shelf_Level_2</td>\n",
       "      <td>1.0</td>\n",
       "      <td>1.00</td>\n",
       "      <td>27.753301</td>\n",
       "    </tr>\n",
       "    <tr>\n",
       "      <th>74</th>\n",
       "      <td>Wheat_Chex</td>\n",
       "      <td>R</td>\n",
       "      <td>C</td>\n",
       "      <td>100</td>\n",
       "      <td>3</td>\n",
       "      <td>1</td>\n",
       "      <td>230</td>\n",
       "      <td>3.0</td>\n",
       "      <td>17.0</td>\n",
       "      <td>3.0</td>\n",
       "      <td>115.0</td>\n",
       "      <td>25</td>\n",
       "      <td>Shelf_Level_1</td>\n",
       "      <td>1.0</td>\n",
       "      <td>0.67</td>\n",
       "      <td>49.787445</td>\n",
       "    </tr>\n",
       "    <tr>\n",
       "      <th>75</th>\n",
       "      <td>Wheaties</td>\n",
       "      <td>G</td>\n",
       "      <td>C</td>\n",
       "      <td>100</td>\n",
       "      <td>3</td>\n",
       "      <td>1</td>\n",
       "      <td>200</td>\n",
       "      <td>3.0</td>\n",
       "      <td>17.0</td>\n",
       "      <td>3.0</td>\n",
       "      <td>110.0</td>\n",
       "      <td>25</td>\n",
       "      <td>Shelf_Level_1</td>\n",
       "      <td>1.0</td>\n",
       "      <td>1.00</td>\n",
       "      <td>51.592193</td>\n",
       "    </tr>\n",
       "    <tr>\n",
       "      <th>76</th>\n",
       "      <td>Wheaties_Honey_Gold</td>\n",
       "      <td>G</td>\n",
       "      <td>C</td>\n",
       "      <td>110</td>\n",
       "      <td>2</td>\n",
       "      <td>1</td>\n",
       "      <td>200</td>\n",
       "      <td>1.0</td>\n",
       "      <td>16.0</td>\n",
       "      <td>8.0</td>\n",
       "      <td>60.0</td>\n",
       "      <td>25</td>\n",
       "      <td>Shelf_Level_1</td>\n",
       "      <td>1.0</td>\n",
       "      <td>0.75</td>\n",
       "      <td>36.187559</td>\n",
       "    </tr>\n",
       "  </tbody>\n",
       "</table>\n",
       "<p>74 rows × 16 columns</p>\n",
       "</div>"
      ],
      "text/plain": [
       "                         name mfr type  calories  protein  fat  sodium  fiber  \\\n",
       "0                   100%_Bran   N    C        70        4    1     130   10.0   \n",
       "1           100%_Natural_Bran   Q    C       120        3    5      15    2.0   \n",
       "2                    All-Bran   K    C        70        4    1     260    9.0   \n",
       "3   All-Bran_with_Extra_Fiber   K    C        50        4    0     140   14.0   \n",
       "5     Apple_Cinnamon_Cheerios   G    C       110        2    2     180    1.5   \n",
       "..                        ...  ..  ...       ...      ...  ...     ...    ...   \n",
       "72                    Triples   G    C       110        2    1     250    0.0   \n",
       "73                       Trix   G    C       110        1    1     140    0.0   \n",
       "74                 Wheat_Chex   R    C       100        3    1     230    3.0   \n",
       "75                   Wheaties   G    C       100        3    1     200    3.0   \n",
       "76        Wheaties_Honey_Gold   G    C       110        2    1     200    1.0   \n",
       "\n",
       "    carbo  sugars  potass  vitamins          shelf  weight  cups     rating  \n",
       "0     5.0     6.0   280.0        25  Shelf_Level_3     1.0  0.33  68.402973  \n",
       "1     8.0     8.0   135.0         0  Shelf_Level_3     1.0  1.00  33.983679  \n",
       "2     7.0     5.0   320.0        25  Shelf_Level_3     1.0  0.33  59.425505  \n",
       "3     8.0     0.0   330.0        25  Shelf_Level_3     1.0  0.50  93.704912  \n",
       "5    10.5    10.0    70.0        25  Shelf_Level_1     1.0  0.75  29.509541  \n",
       "..    ...     ...     ...       ...            ...     ...   ...        ...  \n",
       "72   21.0     3.0    60.0        25  Shelf_Level_3     1.0  0.75  39.106174  \n",
       "73   13.0    12.0    25.0        25  Shelf_Level_2     1.0  1.00  27.753301  \n",
       "74   17.0     3.0   115.0        25  Shelf_Level_1     1.0  0.67  49.787445  \n",
       "75   17.0     3.0   110.0        25  Shelf_Level_1     1.0  1.00  51.592193  \n",
       "76   16.0     8.0    60.0        25  Shelf_Level_1     1.0  0.75  36.187559  \n",
       "\n",
       "[74 rows x 16 columns]"
      ]
     },
     "execution_count": 36,
     "metadata": {},
     "output_type": "execute_result"
    }
   ],
   "source": [
    "# Se observa que las columnas que tienen un porcentaje de valores faltantes son: carbo, sugars y\n",
    "# potass. Se guardarán en la lista \"columns_with_missing_values\" para eliminar los registros que\n",
    "# contengan valores faltantes en dichas columnas.\n",
    "\n",
    "# ************************** PARTE 1: Eliminación de Valores Faltantes ***************************\n",
    "\n",
    "columns_with_missing_values = ['carbo', 'sugars', 'potass']\n",
    "\n",
    "# Eliminar valores faltantes.\n",
    "cereals_df = cereals_df.dropna(subset=columns_with_missing_values)\n",
    "cereals_df"
   ]
  },
  {
   "cell_type": "code",
   "execution_count": null,
   "metadata": {
    "id": "PVbaMw6HB7SU",
    "outputId": "d7c95ff7-2c1f-4e68-e318-544b9160bdee"
   },
   "outputs": [
    {
     "data": {
      "text/html": [
       "<div>\n",
       "<style scoped>\n",
       "    .dataframe tbody tr th:only-of-type {\n",
       "        vertical-align: middle;\n",
       "    }\n",
       "\n",
       "    .dataframe tbody tr th {\n",
       "        vertical-align: top;\n",
       "    }\n",
       "\n",
       "    .dataframe thead th {\n",
       "        text-align: right;\n",
       "    }\n",
       "</style>\n",
       "<table border=\"1\" class=\"dataframe\">\n",
       "  <thead>\n",
       "    <tr style=\"text-align: right;\">\n",
       "      <th></th>\n",
       "      <th>name</th>\n",
       "      <th>mfr</th>\n",
       "      <th>type</th>\n",
       "      <th>calories</th>\n",
       "      <th>protein</th>\n",
       "      <th>fat</th>\n",
       "      <th>sodium</th>\n",
       "      <th>fiber</th>\n",
       "      <th>carbo</th>\n",
       "      <th>sugars</th>\n",
       "      <th>potass</th>\n",
       "      <th>vitamins</th>\n",
       "      <th>shelf</th>\n",
       "      <th>weight</th>\n",
       "      <th>cups</th>\n",
       "      <th>rating</th>\n",
       "    </tr>\n",
       "  </thead>\n",
       "  <tbody>\n",
       "    <tr>\n",
       "      <th>0</th>\n",
       "      <td>100%_Bran</td>\n",
       "      <td>N</td>\n",
       "      <td>C</td>\n",
       "      <td>70</td>\n",
       "      <td>4</td>\n",
       "      <td>1</td>\n",
       "      <td>130</td>\n",
       "      <td>10.0</td>\n",
       "      <td>5.0</td>\n",
       "      <td>6.0</td>\n",
       "      <td>280.0</td>\n",
       "      <td>25</td>\n",
       "      <td>Shelf_Level_3</td>\n",
       "      <td>1.0</td>\n",
       "      <td>0.33</td>\n",
       "      <td>68.402973</td>\n",
       "    </tr>\n",
       "    <tr>\n",
       "      <th>1</th>\n",
       "      <td>100%_Natural_Bran</td>\n",
       "      <td>Q</td>\n",
       "      <td>C</td>\n",
       "      <td>120</td>\n",
       "      <td>3</td>\n",
       "      <td>5</td>\n",
       "      <td>15</td>\n",
       "      <td>2.0</td>\n",
       "      <td>8.0</td>\n",
       "      <td>8.0</td>\n",
       "      <td>135.0</td>\n",
       "      <td>0</td>\n",
       "      <td>Shelf_Level_3</td>\n",
       "      <td>1.0</td>\n",
       "      <td>1.00</td>\n",
       "      <td>33.983679</td>\n",
       "    </tr>\n",
       "    <tr>\n",
       "      <th>2</th>\n",
       "      <td>All-Bran</td>\n",
       "      <td>K</td>\n",
       "      <td>C</td>\n",
       "      <td>70</td>\n",
       "      <td>4</td>\n",
       "      <td>1</td>\n",
       "      <td>260</td>\n",
       "      <td>9.0</td>\n",
       "      <td>7.0</td>\n",
       "      <td>5.0</td>\n",
       "      <td>320.0</td>\n",
       "      <td>25</td>\n",
       "      <td>Shelf_Level_3</td>\n",
       "      <td>1.0</td>\n",
       "      <td>0.33</td>\n",
       "      <td>59.425505</td>\n",
       "    </tr>\n",
       "    <tr>\n",
       "      <th>3</th>\n",
       "      <td>All-Bran_with_Extra_Fiber</td>\n",
       "      <td>K</td>\n",
       "      <td>C</td>\n",
       "      <td>50</td>\n",
       "      <td>4</td>\n",
       "      <td>0</td>\n",
       "      <td>140</td>\n",
       "      <td>14.0</td>\n",
       "      <td>8.0</td>\n",
       "      <td>0.0</td>\n",
       "      <td>330.0</td>\n",
       "      <td>25</td>\n",
       "      <td>Shelf_Level_3</td>\n",
       "      <td>1.0</td>\n",
       "      <td>0.50</td>\n",
       "      <td>93.704912</td>\n",
       "    </tr>\n",
       "    <tr>\n",
       "      <th>4</th>\n",
       "      <td>Apple_Cinnamon_Cheerios</td>\n",
       "      <td>G</td>\n",
       "      <td>C</td>\n",
       "      <td>110</td>\n",
       "      <td>2</td>\n",
       "      <td>2</td>\n",
       "      <td>180</td>\n",
       "      <td>1.5</td>\n",
       "      <td>10.5</td>\n",
       "      <td>10.0</td>\n",
       "      <td>70.0</td>\n",
       "      <td>25</td>\n",
       "      <td>Shelf_Level_1</td>\n",
       "      <td>1.0</td>\n",
       "      <td>0.75</td>\n",
       "      <td>29.509541</td>\n",
       "    </tr>\n",
       "    <tr>\n",
       "      <th>...</th>\n",
       "      <td>...</td>\n",
       "      <td>...</td>\n",
       "      <td>...</td>\n",
       "      <td>...</td>\n",
       "      <td>...</td>\n",
       "      <td>...</td>\n",
       "      <td>...</td>\n",
       "      <td>...</td>\n",
       "      <td>...</td>\n",
       "      <td>...</td>\n",
       "      <td>...</td>\n",
       "      <td>...</td>\n",
       "      <td>...</td>\n",
       "      <td>...</td>\n",
       "      <td>...</td>\n",
       "      <td>...</td>\n",
       "    </tr>\n",
       "    <tr>\n",
       "      <th>69</th>\n",
       "      <td>Triples</td>\n",
       "      <td>G</td>\n",
       "      <td>C</td>\n",
       "      <td>110</td>\n",
       "      <td>2</td>\n",
       "      <td>1</td>\n",
       "      <td>250</td>\n",
       "      <td>0.0</td>\n",
       "      <td>21.0</td>\n",
       "      <td>3.0</td>\n",
       "      <td>60.0</td>\n",
       "      <td>25</td>\n",
       "      <td>Shelf_Level_3</td>\n",
       "      <td>1.0</td>\n",
       "      <td>0.75</td>\n",
       "      <td>39.106174</td>\n",
       "    </tr>\n",
       "    <tr>\n",
       "      <th>70</th>\n",
       "      <td>Trix</td>\n",
       "      <td>G</td>\n",
       "      <td>C</td>\n",
       "      <td>110</td>\n",
       "      <td>1</td>\n",
       "      <td>1</td>\n",
       "      <td>140</td>\n",
       "      <td>0.0</td>\n",
       "      <td>13.0</td>\n",
       "      <td>12.0</td>\n",
       "      <td>25.0</td>\n",
       "      <td>25</td>\n",
       "      <td>Shelf_Level_2</td>\n",
       "      <td>1.0</td>\n",
       "      <td>1.00</td>\n",
       "      <td>27.753301</td>\n",
       "    </tr>\n",
       "    <tr>\n",
       "      <th>71</th>\n",
       "      <td>Wheat_Chex</td>\n",
       "      <td>R</td>\n",
       "      <td>C</td>\n",
       "      <td>100</td>\n",
       "      <td>3</td>\n",
       "      <td>1</td>\n",
       "      <td>230</td>\n",
       "      <td>3.0</td>\n",
       "      <td>17.0</td>\n",
       "      <td>3.0</td>\n",
       "      <td>115.0</td>\n",
       "      <td>25</td>\n",
       "      <td>Shelf_Level_1</td>\n",
       "      <td>1.0</td>\n",
       "      <td>0.67</td>\n",
       "      <td>49.787445</td>\n",
       "    </tr>\n",
       "    <tr>\n",
       "      <th>72</th>\n",
       "      <td>Wheaties</td>\n",
       "      <td>G</td>\n",
       "      <td>C</td>\n",
       "      <td>100</td>\n",
       "      <td>3</td>\n",
       "      <td>1</td>\n",
       "      <td>200</td>\n",
       "      <td>3.0</td>\n",
       "      <td>17.0</td>\n",
       "      <td>3.0</td>\n",
       "      <td>110.0</td>\n",
       "      <td>25</td>\n",
       "      <td>Shelf_Level_1</td>\n",
       "      <td>1.0</td>\n",
       "      <td>1.00</td>\n",
       "      <td>51.592193</td>\n",
       "    </tr>\n",
       "    <tr>\n",
       "      <th>73</th>\n",
       "      <td>Wheaties_Honey_Gold</td>\n",
       "      <td>G</td>\n",
       "      <td>C</td>\n",
       "      <td>110</td>\n",
       "      <td>2</td>\n",
       "      <td>1</td>\n",
       "      <td>200</td>\n",
       "      <td>1.0</td>\n",
       "      <td>16.0</td>\n",
       "      <td>8.0</td>\n",
       "      <td>60.0</td>\n",
       "      <td>25</td>\n",
       "      <td>Shelf_Level_1</td>\n",
       "      <td>1.0</td>\n",
       "      <td>0.75</td>\n",
       "      <td>36.187559</td>\n",
       "    </tr>\n",
       "  </tbody>\n",
       "</table>\n",
       "<p>74 rows × 16 columns</p>\n",
       "</div>"
      ],
      "text/plain": [
       "                         name mfr type  calories  protein  fat  sodium  fiber  \\\n",
       "0                   100%_Bran   N    C        70        4    1     130   10.0   \n",
       "1           100%_Natural_Bran   Q    C       120        3    5      15    2.0   \n",
       "2                    All-Bran   K    C        70        4    1     260    9.0   \n",
       "3   All-Bran_with_Extra_Fiber   K    C        50        4    0     140   14.0   \n",
       "4     Apple_Cinnamon_Cheerios   G    C       110        2    2     180    1.5   \n",
       "..                        ...  ..  ...       ...      ...  ...     ...    ...   \n",
       "69                    Triples   G    C       110        2    1     250    0.0   \n",
       "70                       Trix   G    C       110        1    1     140    0.0   \n",
       "71                 Wheat_Chex   R    C       100        3    1     230    3.0   \n",
       "72                   Wheaties   G    C       100        3    1     200    3.0   \n",
       "73        Wheaties_Honey_Gold   G    C       110        2    1     200    1.0   \n",
       "\n",
       "    carbo  sugars  potass  vitamins          shelf  weight  cups     rating  \n",
       "0     5.0     6.0   280.0        25  Shelf_Level_3     1.0  0.33  68.402973  \n",
       "1     8.0     8.0   135.0         0  Shelf_Level_3     1.0  1.00  33.983679  \n",
       "2     7.0     5.0   320.0        25  Shelf_Level_3     1.0  0.33  59.425505  \n",
       "3     8.0     0.0   330.0        25  Shelf_Level_3     1.0  0.50  93.704912  \n",
       "4    10.5    10.0    70.0        25  Shelf_Level_1     1.0  0.75  29.509541  \n",
       "..    ...     ...     ...       ...            ...     ...   ...        ...  \n",
       "69   21.0     3.0    60.0        25  Shelf_Level_3     1.0  0.75  39.106174  \n",
       "70   13.0    12.0    25.0        25  Shelf_Level_2     1.0  1.00  27.753301  \n",
       "71   17.0     3.0   115.0        25  Shelf_Level_1     1.0  0.67  49.787445  \n",
       "72   17.0     3.0   110.0        25  Shelf_Level_1     1.0  1.00  51.592193  \n",
       "73   16.0     8.0    60.0        25  Shelf_Level_1     1.0  0.75  36.187559  \n",
       "\n",
       "[74 rows x 16 columns]"
      ]
     },
     "execution_count": 37,
     "metadata": {},
     "output_type": "execute_result"
    }
   ],
   "source": [
    "# Se reinicia el índice del DataFrame para mantener la continuidad entre las columnas\n",
    "\n",
    "cereals_df = cereals_df.reset_index(drop=True)\n",
    "cereals_df"
   ]
  },
  {
   "cell_type": "code",
   "execution_count": null,
   "metadata": {
    "id": "ttTWcqu6B7SU",
    "outputId": "5256f9db-efa8-485e-ff7a-93680e5b22d7"
   },
   "outputs": [
    {
     "name": "stdout",
     "output_type": "stream",
     "text": [
      "+-----------+------------------------+\n",
      "| Columna   | Porcentaje Faltantes   |\n",
      "|-----------+------------------------|\n",
      "| name      | 0.0%                   |\n",
      "| mfr       | 0.0%                   |\n",
      "| type      | 0.0%                   |\n",
      "| calories  | 0.0%                   |\n",
      "| protein   | 0.0%                   |\n",
      "| fat       | 0.0%                   |\n",
      "| sodium    | 0.0%                   |\n",
      "| fiber     | 0.0%                   |\n",
      "| carbo     | 0.0%                   |\n",
      "| sugars    | 0.0%                   |\n",
      "| potass    | 0.0%                   |\n",
      "| vitamins  | 0.0%                   |\n",
      "| shelf     | 0.0%                   |\n",
      "| weight    | 0.0%                   |\n",
      "| cups      | 0.0%                   |\n",
      "| rating    | 0.0%                   |\n",
      "+-----------+------------------------+\n"
     ]
    }
   ],
   "source": [
    "# Se vuelve a imprimir la tabla de valores faltantes para comprobar que la operación\n",
    "# se realizó correctamente\n",
    "\n",
    "missing_values_after_drop = find_missing_values_per_column(df=cereals_df)"
   ]
  },
  {
   "cell_type": "markdown",
   "metadata": {
    "id": "S51rfjbMicoY"
   },
   "source": [
    "# **Parte 2**. Ingeniería de características"
   ]
  },
  {
   "cell_type": "markdown",
   "metadata": {
    "id": "-MQjqqisihp5"
   },
   "source": [
    "6. Considerando que `rating` es la variable de salida, almacénala en una variable `y` y separa los predictores **numéricos** en `X`. Escala los valores de `X` y aplica `PCA` para proyectar los datos en el nuevo espacio de vectores."
   ]
  },
  {
   "cell_type": "code",
   "execution_count": null,
   "metadata": {
    "id": "2wkFhhvcB7SU"
   },
   "outputs": [],
   "source": [
    "Y = cereals_df['rating']\n",
    "X = cereals_df[numeric_columns]"
   ]
  },
  {
   "cell_type": "code",
   "execution_count": null,
   "metadata": {},
   "outputs": [],
   "source": [
    "from sklearn.preprocessing import StandardScaler\n",
    "\n",
    "x = StandardScaler().fit_transform(X)"
   ]
  },
  {
   "cell_type": "code",
   "execution_count": null,
   "metadata": {},
   "outputs": [],
   "source": [
    "from sklearn.decomposition import PCA\n",
    "\n",
    "pca = PCA()\n",
    "principal_components = pd.DataFrame(pca.fit_transform(x))"
   ]
  },
  {
   "cell_type": "code",
   "execution_count": null,
   "metadata": {},
   "outputs": [
    {
     "data": {
      "text/html": [
       "<div>\n",
       "<style scoped>\n",
       "    .dataframe tbody tr th:only-of-type {\n",
       "        vertical-align: middle;\n",
       "    }\n",
       "\n",
       "    .dataframe tbody tr th {\n",
       "        vertical-align: top;\n",
       "    }\n",
       "\n",
       "    .dataframe thead th {\n",
       "        text-align: right;\n",
       "    }\n",
       "</style>\n",
       "<table border=\"1\" class=\"dataframe\">\n",
       "  <thead>\n",
       "    <tr style=\"text-align: right;\">\n",
       "      <th></th>\n",
       "      <th>0</th>\n",
       "      <th>1</th>\n",
       "      <th>2</th>\n",
       "      <th>3</th>\n",
       "      <th>4</th>\n",
       "      <th>5</th>\n",
       "      <th>6</th>\n",
       "      <th>7</th>\n",
       "      <th>8</th>\n",
       "      <th>9</th>\n",
       "      <th>10</th>\n",
       "      <th>11</th>\n",
       "    </tr>\n",
       "  </thead>\n",
       "  <tbody>\n",
       "    <tr>\n",
       "      <th>0</th>\n",
       "      <td>5.364740</td>\n",
       "      <td>-2.196732</td>\n",
       "      <td>-0.986145</td>\n",
       "      <td>-1.254493</td>\n",
       "      <td>0.952970</td>\n",
       "      <td>-0.269240</td>\n",
       "      <td>0.006249</td>\n",
       "      <td>0.050121</td>\n",
       "      <td>0.024768</td>\n",
       "      <td>0.265060</td>\n",
       "      <td>0.010946</td>\n",
       "      <td>1.028426e-08</td>\n",
       "    </tr>\n",
       "    <tr>\n",
       "      <th>1</th>\n",
       "      <td>-0.049915</td>\n",
       "      <td>-1.690545</td>\n",
       "      <td>-2.901426</td>\n",
       "      <td>3.276503</td>\n",
       "      <td>1.191867</td>\n",
       "      <td>0.636621</td>\n",
       "      <td>-0.406721</td>\n",
       "      <td>-1.239471</td>\n",
       "      <td>-0.594881</td>\n",
       "      <td>0.030007</td>\n",
       "      <td>-0.101016</td>\n",
       "      <td>1.285542e-09</td>\n",
       "    </tr>\n",
       "    <tr>\n",
       "      <th>2</th>\n",
       "      <td>4.740507</td>\n",
       "      <td>-2.413269</td>\n",
       "      <td>-0.105128</td>\n",
       "      <td>-1.463840</td>\n",
       "      <td>1.367409</td>\n",
       "      <td>-1.532245</td>\n",
       "      <td>-0.273786</td>\n",
       "      <td>0.011087</td>\n",
       "      <td>0.119851</td>\n",
       "      <td>-0.521732</td>\n",
       "      <td>-0.010720</td>\n",
       "      <td>1.491326e-08</td>\n",
       "    </tr>\n",
       "    <tr>\n",
       "      <th>3</th>\n",
       "      <td>7.717178</td>\n",
       "      <td>-1.221734</td>\n",
       "      <td>0.674423</td>\n",
       "      <td>-1.794585</td>\n",
       "      <td>0.764479</td>\n",
       "      <td>-0.070455</td>\n",
       "      <td>-0.820448</td>\n",
       "      <td>-1.008505</td>\n",
       "      <td>0.059635</td>\n",
       "      <td>0.753295</td>\n",
       "      <td>0.069698</td>\n",
       "      <td>-1.963442e-08</td>\n",
       "    </tr>\n",
       "    <tr>\n",
       "      <th>4</th>\n",
       "      <td>-0.918148</td>\n",
       "      <td>-0.589213</td>\n",
       "      <td>-1.468964</td>\n",
       "      <td>0.048603</td>\n",
       "      <td>0.673019</td>\n",
       "      <td>-0.519896</td>\n",
       "      <td>0.243493</td>\n",
       "      <td>0.003515</td>\n",
       "      <td>-0.185366</td>\n",
       "      <td>0.187643</td>\n",
       "      <td>-0.056660</td>\n",
       "      <td>1.911098e-08</td>\n",
       "    </tr>\n",
       "  </tbody>\n",
       "</table>\n",
       "</div>"
      ],
      "text/plain": [
       "         0         1         2         3         4         5         6   \\\n",
       "0  5.364740 -2.196732 -0.986145 -1.254493  0.952970 -0.269240  0.006249   \n",
       "1 -0.049915 -1.690545 -2.901426  3.276503  1.191867  0.636621 -0.406721   \n",
       "2  4.740507 -2.413269 -0.105128 -1.463840  1.367409 -1.532245 -0.273786   \n",
       "3  7.717178 -1.221734  0.674423 -1.794585  0.764479 -0.070455 -0.820448   \n",
       "4 -0.918148 -0.589213 -1.468964  0.048603  0.673019 -0.519896  0.243493   \n",
       "\n",
       "         7         8         9         10            11  \n",
       "0  0.050121  0.024768  0.265060  0.010946  1.028426e-08  \n",
       "1 -1.239471 -0.594881  0.030007 -0.101016  1.285542e-09  \n",
       "2  0.011087  0.119851 -0.521732 -0.010720  1.491326e-08  \n",
       "3 -1.008505  0.059635  0.753295  0.069698 -1.963442e-08  \n",
       "4  0.003515 -0.185366  0.187643 -0.056660  1.911098e-08  "
      ]
     },
     "execution_count": 35,
     "metadata": {},
     "output_type": "execute_result"
    }
   ],
   "source": [
    "principal_components.head(n=5)"
   ]
  },
  {
   "cell_type": "markdown",
   "metadata": {
    "id": "cYeQ6zwSit8I"
   },
   "source": [
    "7. Obtén la curva del porcentaje de varianza acumulada y determine el número mínimo de componentes principales que explique más del 90% de la varianza. Imprime la información de dichos componentes."
   ]
  },
  {
   "cell_type": "code",
   "execution_count": null,
   "metadata": {
    "id": "g0iOZsi7oiEK"
   },
   "outputs": [],
   "source": []
  },
  {
   "cell_type": "markdown",
   "metadata": {
    "id": "dmCLWDJwi3P2"
   },
   "source": [
    "8. ¿Cuáles son las tres variables más importantes en el cálculo del primer componente?\n"
   ]
  },
  {
   "cell_type": "code",
   "execution_count": null,
   "metadata": {
    "id": "RDHX0DQ6ojB-"
   },
   "outputs": [],
   "source": []
  },
  {
   "cell_type": "markdown",
   "metadata": {
    "id": "yIUm9oVPjw6Q"
   },
   "source": [
    "9. ¿Todas las variables categóricas son predictores? Aplica una técnica de encoding a las que sí lo sean. Justifica la elección de tu técnica."
   ]
  },
  {
   "cell_type": "markdown",
   "metadata": {},
   "source": [
    "No por que una variable es categorica implica que tambien es predictora, todo depende de la infomracion del conjunto de datos a analizar. En este ejemplo tanto 'shelf' , 'mfr' como 'type'  se pueden utilizar para identificar tendencias en ventas y generar predicciones de ventas"
   ]
  },
  {
   "cell_type": "code",
   "execution_count": 52,
   "metadata": {
    "id": "Q4pzwnTiokLs"
   },
   "outputs": [],
   "source": [
    "# Importando la libreria\n",
    "from sklearn.preprocessing import OrdinalEncoder\n",
    "from sklearn.preprocessing import OneHotEncoder"
   ]
  },
  {
   "cell_type": "code",
   "execution_count": 49,
   "metadata": {},
   "outputs": [
    {
     "data": {
      "text/plain": [
       "[array(['Shelf_Level_1', 'Shelf_Level_2', 'Shelf_Level_3'], dtype=object)]"
      ]
     },
     "execution_count": 49,
     "metadata": {},
     "output_type": "execute_result"
    }
   ],
   "source": [
    "#Codificando shelf utilizando ordinal encoding ya que los estantes estan agrupados segun un orden de abajo (1) hacia arriba (3)\n",
    "ordinal_encoder = OrdinalEncoder()\n",
    "shelf_predictor = cereals_df[['shelf']]\n",
    "shelf_encoded = ordinal_encoder.fit_transform(shelf_predictor)\n",
    "ordinal_encoder.categories_"
   ]
  },
  {
   "cell_type": "code",
   "execution_count": 53,
   "metadata": {},
   "outputs": [
    {
     "data": {
      "text/plain": [
       "[array(['C', 'H'], dtype=object)]"
      ]
     },
     "execution_count": 53,
     "metadata": {},
     "output_type": "execute_result"
    }
   ],
   "source": [
    "#Codificando type utilizando one hot encoding ya solo hay dos elementos (y ninguno es mas importante que el otro)\n",
    "one_hot_encoder = OneHotEncoder()\n",
    "type_predictor = cereals_df[['type']]\n",
    "type_encoded = one_hot_encoder.fit_transform(type_predictor)\n",
    "one_hot_encoder.categories_"
   ]
  },
  {
   "cell_type": "code",
   "execution_count": 56,
   "metadata": {},
   "outputs": [
    {
     "data": {
      "text/plain": [
       "[array(['A', 'G', 'K', 'N', 'P', 'Q', 'R'], dtype=object)]"
      ]
     },
     "execution_count": 56,
     "metadata": {},
     "output_type": "execute_result"
    }
   ],
   "source": [
    "#Codificando mfr utilizando one hot encoding ya que las relaciones entre las columnas no estan claramente identificadas\n",
    "one_hot_encoder = OneHotEncoder()\n",
    "mfr_predictor = cereals_df[['mfr']]\n",
    "mfr_encoded = one_hot_encoder.fit_transform(mfr_predictor)\n",
    "one_hot_encoder.categories_"
   ]
  },
  {
   "cell_type": "markdown",
   "metadata": {
    "id": "kJU_vJExj2Lh"
   },
   "source": [
    "10. Conjunta, en un dataframe, las valores proyectados en los componentes seleccionados (mínimo), las transformaciones obtenidas de las variables categóricas que serán predictores y la variable de salida. Almacena el dataframe resultante en archivo."
   ]
  },
  {
   "cell_type": "code",
   "execution_count": null,
   "metadata": {
    "id": "DLcbTOUtolGR"
   },
   "outputs": [],
   "source": []
  }
 ],
 "metadata": {
  "colab": {
   "provenance": []
  },
  "kernelspec": {
   "display_name": "Python 3 (ipykernel)",
   "language": "python",
   "name": "python3"
  },
  "language_info": {
   "codemirror_mode": {
    "name": "ipython",
    "version": 3
   },
   "file_extension": ".py",
   "mimetype": "text/x-python",
   "name": "python",
   "nbconvert_exporter": "python",
   "pygments_lexer": "ipython3",
   "version": "3.9.12"
  }
 },
 "nbformat": 4,
 "nbformat_minor": 1
}
